{
  "nbformat": 4,
  "nbformat_minor": 0,
  "metadata": {
    "colab": {
      "provenance": []
    },
    "kernelspec": {
      "name": "python3",
      "display_name": "Python 3"
    },
    "language_info": {
      "name": "python"
    }
  },
  "cells": [
    {
      "cell_type": "code",
      "source": [
        "from bs4 import BeautifulSoup\n",
        "import requests\n",
        "r=requests.get(\"https://www.amazon.in/s?k=-amazon&hvadid=72499124504037&hvbmt=be&hvdev=c&hvqmt=e&tag=msndeskstdin-21&ref=pd_sl_5fksc5jb1x_e\")\n",
        "r.status_code"
      ],
      "metadata": {
        "colab": {
          "base_uri": "https://localhost:8080/",
          "height": 0
        },
        "id": "Y6i5ViUldj8w",
        "outputId": "3fbd30fc-d6b2-4006-9732-5f74925601e1"
      },
      "execution_count": 21,
      "outputs": [
        {
          "output_type": "execute_result",
          "data": {
            "text/plain": [
              "503"
            ]
          },
          "metadata": {},
          "execution_count": 21
        }
      ]
    },
    {
      "cell_type": "markdown",
      "source": [
        "Beautiful soup is a package that is used to check the status of a website."
      ],
      "metadata": {
        "id": "M2_-jBZ_dMva"
      }
    },
    {
      "cell_type": "code",
      "source": [
        "from bs4 import BeautifulSoup\n",
        "import requests\n",
        "r=requests.get(\"https://in.pinterest.com/\")\n",
        "r.status_code"
      ],
      "metadata": {
        "colab": {
          "base_uri": "https://localhost:8080/",
          "height": 0
        },
        "id": "ZHyrDWMGe6fA",
        "outputId": "4a119977-496b-4ccd-98bc-5dee107b42dc"
      },
      "execution_count": 22,
      "outputs": [
        {
          "output_type": "execute_result",
          "data": {
            "text/plain": [
              "200"
            ]
          },
          "metadata": {},
          "execution_count": 22
        }
      ]
    },
    {
      "cell_type": "code",
      "source": [
        "from bs4 import BeautifulSoup\n",
        "import requests\n",
        "r=requests.get(\"https://in.bookmyshow.com/\")\n",
        "r.status_code"
      ],
      "metadata": {
        "colab": {
          "base_uri": "https://localhost:8080/",
          "height": 0
        },
        "id": "GG0Gj8lYfDqd",
        "outputId": "d2e71c6c-d543-4e3a-ae88-ae9c8fbfb2b0"
      },
      "execution_count": 23,
      "outputs": [
        {
          "output_type": "execute_result",
          "data": {
            "text/plain": [
              "403"
            ]
          },
          "metadata": {},
          "execution_count": 23
        }
      ]
    },
    {
      "cell_type": "code",
      "source": [
        "from bs4 import BeautifulSoup\n",
        "import requests\n",
        "r=requests.get(\"https://getbootstrap.com/\")\n",
        "r.status_code"
      ],
      "metadata": {
        "colab": {
          "base_uri": "https://localhost:8080/",
          "height": 0
        },
        "id": "LuSKyVaXfPnP",
        "outputId": "2c9f7c05-4760-4b31-d6d0-dad26b1bd1a6"
      },
      "execution_count": 24,
      "outputs": [
        {
          "output_type": "execute_result",
          "data": {
            "text/plain": [
              "200"
            ]
          },
          "metadata": {},
          "execution_count": 24
        }
      ]
    },
    {
      "cell_type": "code",
      "source": [
        "from bs4 import BeautifulSoup\n",
        "import requests\n",
        "r=requests.get(\"https://github.com/\")\n",
        "r.status_code"
      ],
      "metadata": {
        "colab": {
          "base_uri": "https://localhost:8080/",
          "height": 0
        },
        "id": "vWXXbaAef8EC",
        "outputId": "0f5bee99-7951-465d-93fb-1b1cea744298"
      },
      "execution_count": 25,
      "outputs": [
        {
          "output_type": "execute_result",
          "data": {
            "text/plain": [
              "200"
            ]
          },
          "metadata": {},
          "execution_count": 25
        }
      ]
    },
    {
      "cell_type": "code",
      "source": [
        "from bs4 import BeautifulSoup\n",
        "import requests\n",
        "r=requests.get(\"https://jupyter.org/\")\n",
        "r.status_code"
      ],
      "metadata": {
        "colab": {
          "base_uri": "https://localhost:8080/",
          "height": 0
        },
        "id": "Ri04FTisf9Q2",
        "outputId": "43a786fd-e9a4-4cc9-d91d-77942775872e"
      },
      "execution_count": 26,
      "outputs": [
        {
          "output_type": "execute_result",
          "data": {
            "text/plain": [
              "200"
            ]
          },
          "metadata": {},
          "execution_count": 26
        }
      ]
    },
    {
      "cell_type": "code",
      "source": [
        "from bs4 import BeautifulSoup\n",
        "import requests\n",
        "r=requests.get(\"https://www.oyorooms.com/\")\n",
        "r.status_code"
      ],
      "metadata": {
        "colab": {
          "base_uri": "https://localhost:8080/",
          "height": 0
        },
        "id": "mkUNAPthjFGu",
        "outputId": "ca3d21b6-d9a2-433b-8fa1-9a6c20c128db"
      },
      "execution_count": 27,
      "outputs": [
        {
          "output_type": "execute_result",
          "data": {
            "text/plain": [
              "403"
            ]
          },
          "metadata": {},
          "execution_count": 27
        }
      ]
    },
    {
      "cell_type": "code",
      "source": [
        "from bs4 import BeautifulSoup\n",
        "import requests\n",
        "r=requests.get(\"https://www.hdfcbank.com/\")\n",
        "r.status_code"
      ],
      "metadata": {
        "colab": {
          "base_uri": "https://localhost:8080/",
          "height": 0
        },
        "id": "HuZSSp4Cjo7G",
        "outputId": "a45a1306-d1b9-4702-bb88-22c06a6de97b"
      },
      "execution_count": 28,
      "outputs": [
        {
          "output_type": "execute_result",
          "data": {
            "text/plain": [
              "403"
            ]
          },
          "metadata": {},
          "execution_count": 28
        }
      ]
    },
    {
      "cell_type": "markdown",
      "source": [
        "HTML Tags"
      ],
      "metadata": {
        "id": "ZIndKMcQUv07"
      }
    },
    {
      "cell_type": "code",
      "source": [
        "html_doc = \"\"\"<html><head><title>The dormouse's story</title></head>\n",
        "<body>\n",
        "<p class=\"title\"><b>The Dormouse's story</b></p>\n",
        "\n",
        "<p class=\"story\">Once upon a time there were three little sisters; and their names were\n",
        "<a href=\"http://example.com/elsie\" class=\"sister\" id=\"link1\">Elsie</a>\n",
        "<a href=\"http://example.com/lacie\" class=\"sister\" id=\"link2\">Lacie</a>\n",
        "<a href=\"http://example.com/tillie\" class=\"sister\" id=\"link3\">Tillie</a>\n",
        "and they lived at the bottom of a well. </p>\n",
        "\n",
        "<p class=\"story\">..</p>\n",
        "\"\"\"\n"
      ],
      "metadata": {
        "id": "kjBsV3w5PxUW"
      },
      "execution_count": 29,
      "outputs": []
    },
    {
      "cell_type": "markdown",
      "source": [
        "To parse the html_doc and then display it in a nested structure."
      ],
      "metadata": {
        "id": "OuOb-LIcVDEK"
      }
    },
    {
      "cell_type": "code",
      "source": [
        "from bs4 import BeautifulSoup\n",
        "soup=BeautifulSoup(html_doc, 'html.parser')\n",
        "\n",
        "print(soup.prettify())"
      ],
      "metadata": {
        "colab": {
          "base_uri": "https://localhost:8080/",
          "height": 0
        },
        "id": "B80RTb5-VAyX",
        "outputId": "c3403caa-280c-4bf5-d6a8-92e13df0ec4e"
      },
      "execution_count": 30,
      "outputs": [
        {
          "output_type": "stream",
          "name": "stdout",
          "text": [
            "<html>\n",
            " <head>\n",
            "  <title>\n",
            "   The dormouse's story\n",
            "  </title>\n",
            " </head>\n",
            " <body>\n",
            "  <p class=\"title\">\n",
            "   <b>\n",
            "    The Dormouse's story\n",
            "   </b>\n",
            "  </p>\n",
            "  <p class=\"story\">\n",
            "   Once upon a time there were three little sisters; and their names were\n",
            "   <a class=\"sister\" href=\"http://example.com/elsie\" id=\"link1\">\n",
            "    Elsie\n",
            "   </a>\n",
            "   <a class=\"sister\" href=\"http://example.com/lacie\" id=\"link2\">\n",
            "    Lacie\n",
            "   </a>\n",
            "   <a class=\"sister\" href=\"http://example.com/tillie\" id=\"link3\">\n",
            "    Tillie\n",
            "   </a>\n",
            "   and they lived at the bottom of a well.\n",
            "  </p>\n",
            "  <p class=\"story\">\n",
            "   ..\n",
            "  </p>\n",
            " </body>\n",
            "</html>\n",
            "\n"
          ]
        }
      ]
    },
    {
      "cell_type": "code",
      "source": [
        "soup.title"
      ],
      "metadata": {
        "colab": {
          "base_uri": "https://localhost:8080/",
          "height": 0
        },
        "id": "KNv4_xlDWWnh",
        "outputId": "43367d3f-f0c3-4230-9fb0-2eada854d992"
      },
      "execution_count": 31,
      "outputs": [
        {
          "output_type": "execute_result",
          "data": {
            "text/plain": [
              "<title>The dormouse's story</title>"
            ]
          },
          "metadata": {},
          "execution_count": 31
        }
      ]
    },
    {
      "cell_type": "code",
      "source": [
        "soup.title.name"
      ],
      "metadata": {
        "colab": {
          "base_uri": "https://localhost:8080/",
          "height": 36
        },
        "id": "Ah7O_S51Ws-A",
        "outputId": "cfb4a3a2-c482-4b00-ea36-be1353f0b425"
      },
      "execution_count": 32,
      "outputs": [
        {
          "output_type": "execute_result",
          "data": {
            "text/plain": [
              "'title'"
            ],
            "application/vnd.google.colaboratory.intrinsic+json": {
              "type": "string"
            }
          },
          "metadata": {},
          "execution_count": 32
        }
      ]
    },
    {
      "cell_type": "code",
      "source": [
        "soup.title.string"
      ],
      "metadata": {
        "colab": {
          "base_uri": "https://localhost:8080/",
          "height": 36
        },
        "id": "dOsvL7gsWwkZ",
        "outputId": "8fdcbfc7-3c88-4d52-b78c-605e1ff48f33"
      },
      "execution_count": 33,
      "outputs": [
        {
          "output_type": "execute_result",
          "data": {
            "text/plain": [
              "\"The dormouse's story\""
            ],
            "application/vnd.google.colaboratory.intrinsic+json": {
              "type": "string"
            }
          },
          "metadata": {},
          "execution_count": 33
        }
      ]
    },
    {
      "cell_type": "code",
      "source": [
        "soup.p"
      ],
      "metadata": {
        "colab": {
          "base_uri": "https://localhost:8080/",
          "height": 0
        },
        "id": "6XQH6kZfW-vR",
        "outputId": "734b10d2-627e-4a14-ba90-97bbdae0ddd6"
      },
      "execution_count": 34,
      "outputs": [
        {
          "output_type": "execute_result",
          "data": {
            "text/plain": [
              "<p class=\"title\"><b>The Dormouse's story</b></p>"
            ]
          },
          "metadata": {},
          "execution_count": 34
        }
      ]
    },
    {
      "cell_type": "code",
      "source": [
        "soup.title.parent.name"
      ],
      "metadata": {
        "colab": {
          "base_uri": "https://localhost:8080/",
          "height": 36
        },
        "id": "qLkfPfFAW0Xv",
        "outputId": "e3161daa-796f-4881-eff1-034a5bf9e68a"
      },
      "execution_count": 35,
      "outputs": [
        {
          "output_type": "execute_result",
          "data": {
            "text/plain": [
              "'head'"
            ],
            "application/vnd.google.colaboratory.intrinsic+json": {
              "type": "string"
            }
          },
          "metadata": {},
          "execution_count": 35
        }
      ]
    },
    {
      "cell_type": "code",
      "source": [
        "soup.p['class']"
      ],
      "metadata": {
        "colab": {
          "base_uri": "https://localhost:8080/",
          "height": 0
        },
        "id": "5gEodp6uXCJo",
        "outputId": "8be949b2-c1f6-4585-dab5-e95bf09a0615"
      },
      "execution_count": 36,
      "outputs": [
        {
          "output_type": "execute_result",
          "data": {
            "text/plain": [
              "['title']"
            ]
          },
          "metadata": {},
          "execution_count": 36
        }
      ]
    },
    {
      "cell_type": "code",
      "source": [
        "soup.a"
      ],
      "metadata": {
        "colab": {
          "base_uri": "https://localhost:8080/",
          "height": 0
        },
        "id": "1wxVU5o1XGsw",
        "outputId": "ca0790ab-c9a9-441c-82a9-d4512d463ddf"
      },
      "execution_count": 37,
      "outputs": [
        {
          "output_type": "execute_result",
          "data": {
            "text/plain": [
              "<a class=\"sister\" href=\"http://example.com/elsie\" id=\"link1\">Elsie</a>"
            ]
          },
          "metadata": {},
          "execution_count": 37
        }
      ]
    },
    {
      "cell_type": "code",
      "source": [
        "soup.find_all('a')"
      ],
      "metadata": {
        "colab": {
          "base_uri": "https://localhost:8080/",
          "height": 0
        },
        "id": "1u46e3ySXzhn",
        "outputId": "18ce2210-9bad-47a6-cb0b-cc03b07f1b33"
      },
      "execution_count": 38,
      "outputs": [
        {
          "output_type": "execute_result",
          "data": {
            "text/plain": [
              "[<a class=\"sister\" href=\"http://example.com/elsie\" id=\"link1\">Elsie</a>,\n",
              " <a class=\"sister\" href=\"http://example.com/lacie\" id=\"link2\">Lacie</a>,\n",
              " <a class=\"sister\" href=\"http://example.com/tillie\" id=\"link3\">Tillie</a>]"
            ]
          },
          "metadata": {},
          "execution_count": 38
        }
      ]
    },
    {
      "cell_type": "code",
      "source": [
        "soup.find(id='link3')"
      ],
      "metadata": {
        "colab": {
          "base_uri": "https://localhost:8080/",
          "height": 0
        },
        "id": "pfvhgejVX5_A",
        "outputId": "0d4157f5-3aaa-4408-e2c5-a0c5e29c4df9"
      },
      "execution_count": 39,
      "outputs": [
        {
          "output_type": "execute_result",
          "data": {
            "text/plain": [
              "<a class=\"sister\" href=\"http://example.com/tillie\" id=\"link3\">Tillie</a>"
            ]
          },
          "metadata": {},
          "execution_count": 39
        }
      ]
    },
    {
      "cell_type": "code",
      "source": [
        "for link in soup.find_all('a'):\n",
        "  print(link.get('href'))"
      ],
      "metadata": {
        "colab": {
          "base_uri": "https://localhost:8080/",
          "height": 0
        },
        "id": "ExxNL4kGYDrH",
        "outputId": "dfa94639-0769-46eb-c324-e534743d5db3"
      },
      "execution_count": 40,
      "outputs": [
        {
          "output_type": "stream",
          "name": "stdout",
          "text": [
            "http://example.com/elsie\n",
            "http://example.com/lacie\n",
            "http://example.com/tillie\n"
          ]
        }
      ]
    },
    {
      "cell_type": "code",
      "source": [
        "print(soup.get_text())"
      ],
      "metadata": {
        "colab": {
          "base_uri": "https://localhost:8080/",
          "height": 0
        },
        "id": "IXUGtQr3YnPJ",
        "outputId": "49e766f8-9e83-43c1-c5f7-a183f21fbf2e"
      },
      "execution_count": 41,
      "outputs": [
        {
          "output_type": "stream",
          "name": "stdout",
          "text": [
            "The dormouse's story\n",
            "\n",
            "The Dormouse's story\n",
            "Once upon a time there were three little sisters; and their names were\n",
            "Elsie\n",
            "Lacie\n",
            "Tillie\n",
            "and they lived at the bottom of a well. \n",
            "..\n",
            "\n"
          ]
        }
      ]
    },
    {
      "cell_type": "markdown",
      "source": [
        "William Shakespeare"
      ],
      "metadata": {
        "id": "QWre53UnZNtY"
      }
    },
    {
      "cell_type": "code",
      "source": [
        "html_doc = \"\"\"<html><head><title>English author</title></head>\n",
        "<body>\n",
        "<p class=\"title\"><b>William Shakespeare</b></p>\n",
        "\n",
        "<p class=\"description\">Shakespeare occupies a position unique in world literature. Other poets, such as Homer and Dante, and novelists, such as Leo Tolstoy and\n",
        "Charles Dickens, have transcended national barriers, but no writer’s living reputation can compare to that of Shakespeare, whose plays, written in the late 16th\n",
        " and early 17th centuries for a small repertory theatre, are now performed and read more often and in more countries than ever before.\n",
        "</p>\n",
        "<a href=\"https://www.bing.com/images/search?view=detailV2&ccid=jwS8GPKv&id=4530634CD89617A3FA85CB9D05F5DD297B8E93E3&thid=OIP.jwS8GPKvwmn8JrPnZXmVOgHaEK&mediaurl=https%3a%2f%2fplay-lh.googleusercontent.com%2fGBAEVo6iLxAxgYULe9J4cgjMGZlwe_D3C8i0e5wE9exG0o6KkysWnS8OTSeofNY-%3dw2247-h1264&exph=871&expw=1550&q=william+shakespeare&simid=608025201805568562&FORM=IRPRST&ck=373B1E5BA0E3F1C7686C54A0AD5863A3&selectedIndex=4&ajaxhist=0&ajaxserp=0\">\n",
        "<i>A picture of William Shakespeare.</i>\n",
        "</a>\n",
        "\n",
        "<p class=\"description\">..</p>\n",
        "\"\"\""
      ],
      "metadata": {
        "id": "e0S3eWdzZMnH"
      },
      "execution_count": 42,
      "outputs": []
    },
    {
      "cell_type": "code",
      "source": [
        "from bs4 import BeautifulSoup\n",
        "soup=BeautifulSoup(html_doc, 'html.parser')\n",
        "\n",
        "print(soup.prettify())"
      ],
      "metadata": {
        "colab": {
          "base_uri": "https://localhost:8080/",
          "height": 0
        },
        "id": "RZv752Nybax3",
        "outputId": "80ddce85-1434-487a-cd28-252e2423ee60"
      },
      "execution_count": 43,
      "outputs": [
        {
          "output_type": "stream",
          "name": "stdout",
          "text": [
            "<html>\n",
            " <head>\n",
            "  <title>\n",
            "   English author\n",
            "  </title>\n",
            " </head>\n",
            " <body>\n",
            "  <p class=\"title\">\n",
            "   <b>\n",
            "    William Shakespeare\n",
            "   </b>\n",
            "  </p>\n",
            "  <p class=\"description\">\n",
            "   Shakespeare occupies a position unique in world literature. Other poets, such as Homer and Dante, and novelists, such as Leo Tolstoy and \n",
            "Charles Dickens, have transcended national barriers, but no writer’s living reputation can compare to that of Shakespeare, whose plays, written in the late 16th\n",
            " and early 17th centuries for a small repertory theatre, are now performed and read more often and in more countries than ever before.\n",
            "  </p>\n",
            "  <a href=\"https://www.bing.com/images/search?view=detailV2&amp;ccid=jwS8GPKv&amp;id=4530634CD89617A3FA85CB9D05F5DD297B8E93E3&amp;thid=OIP.jwS8GPKvwmn8JrPnZXmVOgHaEK&amp;mediaurl=https%3a%2f%2fplay-lh.googleusercontent.com%2fGBAEVo6iLxAxgYULe9J4cgjMGZlwe_D3C8i0e5wE9exG0o6KkysWnS8OTSeofNY-%3dw2247-h1264&amp;exph=871&amp;expw=1550&amp;q=william+shakespeare&amp;simid=608025201805568562&amp;FORM=IRPRST&amp;ck=373B1E5BA0E3F1C7686C54A0AD5863A3&amp;selectedIndex=4&amp;ajaxhist=0&amp;ajaxserp=0\">\n",
            "   <i>\n",
            "    A picture of William Shakespeare.\n",
            "   </i>\n",
            "  </a>\n",
            "  <p class=\"description\">\n",
            "   ..\n",
            "  </p>\n",
            " </body>\n",
            "</html>\n",
            "\n"
          ]
        }
      ]
    },
    {
      "cell_type": "code",
      "source": [
        "soup.a"
      ],
      "metadata": {
        "colab": {
          "base_uri": "https://localhost:8080/",
          "height": 0
        },
        "id": "mXDrt-CNbf52",
        "outputId": "9a8eb1d0-5b46-4d60-ed84-14f13db09cdc"
      },
      "execution_count": 44,
      "outputs": [
        {
          "output_type": "execute_result",
          "data": {
            "text/plain": [
              "<a href=\"https://www.bing.com/images/search?view=detailV2&amp;ccid=jwS8GPKv&amp;id=4530634CD89617A3FA85CB9D05F5DD297B8E93E3&amp;thid=OIP.jwS8GPKvwmn8JrPnZXmVOgHaEK&amp;mediaurl=https%3a%2f%2fplay-lh.googleusercontent.com%2fGBAEVo6iLxAxgYULe9J4cgjMGZlwe_D3C8i0e5wE9exG0o6KkysWnS8OTSeofNY-%3dw2247-h1264&amp;exph=871&amp;expw=1550&amp;q=william+shakespeare&amp;simid=608025201805568562&amp;FORM=IRPRST&amp;ck=373B1E5BA0E3F1C7686C54A0AD5863A3&amp;selectedIndex=4&amp;ajaxhist=0&amp;ajaxserp=0\">\n",
              "<i>A picture of William Shakespeare.</i>\n",
              "</a>"
            ]
          },
          "metadata": {},
          "execution_count": 44
        }
      ]
    },
    {
      "cell_type": "code",
      "source": [
        "soup.title"
      ],
      "metadata": {
        "colab": {
          "base_uri": "https://localhost:8080/",
          "height": 0
        },
        "id": "z7GFXXa6bi1O",
        "outputId": "08193210-774e-40ad-9737-54e685dd72c8"
      },
      "execution_count": 45,
      "outputs": [
        {
          "output_type": "execute_result",
          "data": {
            "text/plain": [
              "<title>English author</title>"
            ]
          },
          "metadata": {},
          "execution_count": 45
        }
      ]
    },
    {
      "cell_type": "code",
      "source": [
        "for link in soup.find_all('a'):\n",
        "  print(link.get('href'))"
      ],
      "metadata": {
        "colab": {
          "base_uri": "https://localhost:8080/",
          "height": 0
        },
        "id": "OHEzFD0nbot2",
        "outputId": "93c4ea69-b13f-4e10-b08a-975770c4a458"
      },
      "execution_count": 46,
      "outputs": [
        {
          "output_type": "stream",
          "name": "stdout",
          "text": [
            "https://www.bing.com/images/search?view=detailV2&ccid=jwS8GPKv&id=4530634CD89617A3FA85CB9D05F5DD297B8E93E3&thid=OIP.jwS8GPKvwmn8JrPnZXmVOgHaEK&mediaurl=https%3a%2f%2fplay-lh.googleusercontent.com%2fGBAEVo6iLxAxgYULe9J4cgjMGZlwe_D3C8i0e5wE9exG0o6KkysWnS8OTSeofNY-%3dw2247-h1264&exph=871&expw=1550&q=william+shakespeare&simid=608025201805568562&FORM=IRPRST&ck=373B1E5BA0E3F1C7686C54A0AD5863A3&selectedIndex=4&ajaxhist=0&ajaxserp=0\n"
          ]
        }
      ]
    },
    {
      "cell_type": "code",
      "source": [
        "print(soup.get_text())"
      ],
      "metadata": {
        "colab": {
          "base_uri": "https://localhost:8080/",
          "height": 0
        },
        "id": "LMhaDXE1bte1",
        "outputId": "70d0f579-e73e-46b8-f3d7-bb1ea981ce67"
      },
      "execution_count": 47,
      "outputs": [
        {
          "output_type": "stream",
          "name": "stdout",
          "text": [
            "English author\n",
            "\n",
            "William Shakespeare\n",
            "Shakespeare occupies a position unique in world literature. Other poets, such as Homer and Dante, and novelists, such as Leo Tolstoy and \n",
            "Charles Dickens, have transcended national barriers, but no writer’s living reputation can compare to that of Shakespeare, whose plays, written in the late 16th\n",
            " and early 17th centuries for a small repertory theatre, are now performed and read more often and in more countries than ever before.\n",
            "\n",
            "\n",
            "A picture of William Shakespeare.\n",
            "\n",
            "..\n",
            "\n"
          ]
        }
      ]
    },
    {
      "cell_type": "markdown",
      "source": [
        "To install the beautiful soup package"
      ],
      "metadata": {
        "id": "jlcJxi6tYWV9"
      }
    },
    {
      "cell_type": "code",
      "source": [
        "pip install beautifulsoup4"
      ],
      "metadata": {
        "colab": {
          "base_uri": "https://localhost:8080/",
          "height": 0
        },
        "id": "f3AFGZ3LX57H",
        "outputId": "e1120a33-9ff7-44e8-ef4b-ffa7f86d847b"
      },
      "execution_count": 48,
      "outputs": [
        {
          "output_type": "stream",
          "name": "stdout",
          "text": [
            "Requirement already satisfied: beautifulsoup4 in /usr/local/lib/python3.10/dist-packages (4.12.3)\n",
            "Requirement already satisfied: soupsieve>1.2 in /usr/local/lib/python3.10/dist-packages (from beautifulsoup4) (2.5)\n"
          ]
        }
      ]
    },
    {
      "cell_type": "markdown",
      "source": [
        "lxml - html and xml parser\n",
        "Beautiful soup supports the HTML parser included in Python's standard library but it also supports a number of third-party Python parsers. One is the lxml parser."
      ],
      "metadata": {
        "id": "DoGuiIbvYe2W"
      }
    },
    {
      "cell_type": "code",
      "source": [
        "pip install lxml"
      ],
      "metadata": {
        "colab": {
          "base_uri": "https://localhost:8080/",
          "height": 0
        },
        "id": "5hgNsiApYKkl",
        "outputId": "4a602157-23d8-4f05-fbfe-4e49773e429a"
      },
      "execution_count": 49,
      "outputs": [
        {
          "output_type": "stream",
          "name": "stdout",
          "text": [
            "Requirement already satisfied: lxml in /usr/local/lib/python3.10/dist-packages (4.9.4)\n"
          ]
        }
      ]
    },
    {
      "cell_type": "markdown",
      "source": [
        "Another alternative is the pure Python html5lib parser, which parses HTML the way a web browser does. Depending on your setup, you might install html5lib with one of these commands:"
      ],
      "metadata": {
        "id": "8eXv7lJDZbHc"
      }
    },
    {
      "cell_type": "code",
      "source": [
        "pip install html5lib"
      ],
      "metadata": {
        "colab": {
          "base_uri": "https://localhost:8080/",
          "height": 0
        },
        "id": "EGBETIR_YSPF",
        "outputId": "58a7484c-c80b-42f0-a76b-8b70805ef4d5"
      },
      "execution_count": 50,
      "outputs": [
        {
          "output_type": "stream",
          "name": "stdout",
          "text": [
            "Requirement already satisfied: html5lib in /usr/local/lib/python3.10/dist-packages (1.1)\n",
            "Requirement already satisfied: six>=1.9 in /usr/local/lib/python3.10/dist-packages (from html5lib) (1.16.0)\n",
            "Requirement already satisfied: webencodings in /usr/local/lib/python3.10/dist-packages (from html5lib) (0.5.1)\n"
          ]
        }
      ]
    },
    {
      "cell_type": "markdown",
      "source": [
        "Beautiful soup transfoms a complex HTML document intoa complex tree of python objects. But you'll ever have to deal with about 4 kinds objects:\n",
        "Tag, NavigableString,BeautfulSoup and Comment."
      ],
      "metadata": {
        "id": "dh1IEwLLbJ42"
      }
    },
    {
      "cell_type": "markdown",
      "source": [
        "A Tag object corresponds to an XML or HTML tag in the original document:"
      ],
      "metadata": {
        "id": "egbnbsHLbqtl"
      }
    },
    {
      "cell_type": "code",
      "source": [
        "from bs4 import BeautifulSoup\n",
        "soup = BeautifulSoup('<b class=\"boldest\">Extremely bold</b>', 'html.parser')\n",
        "tag = soup.b\n",
        "type(tag)"
      ],
      "metadata": {
        "colab": {
          "base_uri": "https://localhost:8080/",
          "height": 186
        },
        "id": "vbjkifASb1vA",
        "outputId": "23e55e39-5fcf-4d09-f665-fbd632534450"
      },
      "execution_count": 51,
      "outputs": [
        {
          "output_type": "execute_result",
          "data": {
            "text/plain": [
              "bs4.element.Tag"
            ],
            "text/html": [
              "<div style=\"max-width:800px; border: 1px solid var(--colab-border-color);\"><style>\n",
              "      pre.function-repr-contents {\n",
              "        overflow-x: auto;\n",
              "        padding: 8px 12px;\n",
              "        max-height: 500px;\n",
              "      }\n",
              "\n",
              "      pre.function-repr-contents.function-repr-contents-collapsed {\n",
              "        cursor: pointer;\n",
              "        max-height: 100px;\n",
              "      }\n",
              "    </style>\n",
              "    <pre style=\"white-space: initial; background:\n",
              "         var(--colab-secondary-surface-color); padding: 8px 12px;\n",
              "         border-bottom: 1px solid var(--colab-border-color);\"><b>bs4.element.Tag</b><br/>def __call__(*args, **kwargs)</pre><pre class=\"function-repr-contents function-repr-contents-collapsed\" style=\"\"><a class=\"filepath\" style=\"display:none\" href=\"#\">/usr/local/lib/python3.10/dist-packages/bs4/element.py</a>Represents an HTML or XML tag that is part of a parse tree, along\n",
              "with its attributes and contents.\n",
              "\n",
              "When Beautiful Soup parses the markup &lt;b&gt;penguin&lt;/b&gt;, it will\n",
              "create a Tag object representing the &lt;b&gt; tag.</pre>\n",
              "      <script>\n",
              "      if (google.colab.kernel.accessAllowed && google.colab.files && google.colab.files.view) {\n",
              "        for (const element of document.querySelectorAll('.filepath')) {\n",
              "          element.style.display = 'block'\n",
              "          element.onclick = (event) => {\n",
              "            event.preventDefault();\n",
              "            event.stopPropagation();\n",
              "            google.colab.files.view(element.textContent, 1191);\n",
              "          };\n",
              "        }\n",
              "      }\n",
              "      for (const element of document.querySelectorAll('.function-repr-contents')) {\n",
              "        element.onclick = (event) => {\n",
              "          event.preventDefault();\n",
              "          event.stopPropagation();\n",
              "          element.classList.toggle('function-repr-contents-collapsed');\n",
              "        };\n",
              "      }\n",
              "      </script>\n",
              "      </div>"
            ]
          },
          "metadata": {},
          "execution_count": 51
        }
      ]
    },
    {
      "cell_type": "markdown",
      "source": [
        "Every tag has a name, accessible as .name:"
      ],
      "metadata": {
        "id": "Ip4iQMYRdYCV"
      }
    },
    {
      "cell_type": "code",
      "source": [
        "tag.name"
      ],
      "metadata": {
        "colab": {
          "base_uri": "https://localhost:8080/",
          "height": 36
        },
        "id": "ImFX6i6UdWFP",
        "outputId": "b90192eb-78a1-4b31-d5b6-fa773f7d024b"
      },
      "execution_count": 52,
      "outputs": [
        {
          "output_type": "execute_result",
          "data": {
            "text/plain": [
              "'b'"
            ],
            "application/vnd.google.colaboratory.intrinsic+json": {
              "type": "string"
            }
          },
          "metadata": {},
          "execution_count": 52
        }
      ]
    },
    {
      "cell_type": "code",
      "source": [
        "tag.name=\"blockquote\"\n",
        "tag"
      ],
      "metadata": {
        "colab": {
          "base_uri": "https://localhost:8080/",
          "height": 0
        },
        "id": "SZEI07bcdwld",
        "outputId": "14add2c9-ff7f-46d3-a305-ad64b7e35a79"
      },
      "execution_count": 53,
      "outputs": [
        {
          "output_type": "execute_result",
          "data": {
            "text/plain": [
              "<blockquote class=\"boldest\">Extremely bold</blockquote>"
            ]
          },
          "metadata": {},
          "execution_count": 53
        }
      ]
    },
    {
      "cell_type": "markdown",
      "source": [
        "Attributes-A tag may have any number of attributes.The tag has an attribute \"id\" whose value is \"boldest. You can access a tag's attributes by treating the tag like a dictionary."
      ],
      "metadata": {
        "id": "Tlr1nfnXfyY_"
      }
    },
    {
      "cell_type": "code",
      "source": [
        "tag=BeautifulSoup('<b id=\"boldest\">bold</b>','html.parser').b\n",
        "tag['id']"
      ],
      "metadata": {
        "colab": {
          "base_uri": "https://localhost:8080/",
          "height": 36
        },
        "id": "8ClskVPqgH9J",
        "outputId": "65576b64-639d-48f8-dbc4-dd719ee4c6f8"
      },
      "execution_count": 54,
      "outputs": [
        {
          "output_type": "execute_result",
          "data": {
            "text/plain": [
              "'boldest'"
            ],
            "application/vnd.google.colaboratory.intrinsic+json": {
              "type": "string"
            }
          },
          "metadata": {},
          "execution_count": 54
        }
      ]
    },
    {
      "cell_type": "markdown",
      "source": [
        "You can access that dictionary directly as .attrs:"
      ],
      "metadata": {
        "id": "rbhImRqrgebQ"
      }
    },
    {
      "cell_type": "code",
      "source": [
        "tag.attrs"
      ],
      "metadata": {
        "colab": {
          "base_uri": "https://localhost:8080/",
          "height": 0
        },
        "id": "SZRMgyo_gk7e",
        "outputId": "d32cbe36-b3ab-4208-cec0-f7fe7cffb943"
      },
      "execution_count": 55,
      "outputs": [
        {
          "output_type": "execute_result",
          "data": {
            "text/plain": [
              "{'id': 'boldest'}"
            ]
          },
          "metadata": {},
          "execution_count": 55
        }
      ]
    },
    {
      "cell_type": "markdown",
      "source": [
        "You can add,remove and modify a tag's attributes. Again. this is done by treating the tag as a dictionary."
      ],
      "metadata": {
        "id": "P-VbxR1EhkHm"
      }
    },
    {
      "cell_type": "code",
      "source": [
        "tag['id']='verybold'\n",
        "tag['another-attribute']=1\n",
        "tag"
      ],
      "metadata": {
        "colab": {
          "base_uri": "https://localhost:8080/",
          "height": 0
        },
        "id": "hcww9xYUhvH-",
        "outputId": "08fd984a-2ac6-456c-9817-f19770ef4bb8"
      },
      "execution_count": 56,
      "outputs": [
        {
          "output_type": "execute_result",
          "data": {
            "text/plain": [
              "<b another-attribute=\"1\" id=\"verybold\">bold</b>"
            ]
          },
          "metadata": {},
          "execution_count": 56
        }
      ]
    },
    {
      "cell_type": "code",
      "source": [
        "del tag['id']\n",
        "del tag['another-attribute']\n",
        "tag"
      ],
      "metadata": {
        "colab": {
          "base_uri": "https://localhost:8080/",
          "height": 0
        },
        "id": "PI8SSXyximn5",
        "outputId": "0929cd59-ba38-467e-9ce4-cdf1e572d87a"
      },
      "execution_count": 57,
      "outputs": [
        {
          "output_type": "execute_result",
          "data": {
            "text/plain": [
              "<b>bold</b>"
            ]
          },
          "metadata": {},
          "execution_count": 57
        }
      ]
    },
    {
      "cell_type": "code",
      "source": [
        "tag.get('id')"
      ],
      "metadata": {
        "id": "lUmQvgdpis9v"
      },
      "execution_count": 58,
      "outputs": []
    },
    {
      "cell_type": "markdown",
      "source": [
        "Multi valued attribute"
      ],
      "metadata": {
        "id": "LOBSGCYime9Q"
      }
    },
    {
      "cell_type": "code",
      "source": [
        "css_soup=BeautifulSoup('<p class=\"body\"></p>' 'html.parser')\n",
        "css_soup.p['class']"
      ],
      "metadata": {
        "colab": {
          "base_uri": "https://localhost:8080/",
          "height": 0
        },
        "id": "A-2N-Vl4m9ew",
        "outputId": "3f7b0b79-23c1-4b26-d6bc-7fea465d144b"
      },
      "execution_count": 59,
      "outputs": [
        {
          "output_type": "execute_result",
          "data": {
            "text/plain": [
              "['body']"
            ]
          },
          "metadata": {},
          "execution_count": 59
        }
      ]
    },
    {
      "cell_type": "code",
      "source": [
        "css_soup=BeautifulSoup('<p class=\"body strikeout\"></p>' 'html.parser')\n",
        "css_soup.p['class']"
      ],
      "metadata": {
        "colab": {
          "base_uri": "https://localhost:8080/",
          "height": 0
        },
        "id": "-RUm1QwmnO_m",
        "outputId": "19b9084d-10c8-412d-e68c-24c3ef417666"
      },
      "execution_count": 60,
      "outputs": [
        {
          "output_type": "execute_result",
          "data": {
            "text/plain": [
              "['body', 'strikeout']"
            ]
          },
          "metadata": {},
          "execution_count": 60
        }
      ]
    },
    {
      "cell_type": "markdown",
      "source": [
        "If an attribute looks like a multivalued attribute but its not, then BeautifulSoup will treat it as a normal attribute"
      ],
      "metadata": {
        "id": "foZI9GSHnaCY"
      }
    },
    {
      "cell_type": "code",
      "source": [
        "id_soup=BeautifulSoup('<p id=\"my id\"></p>' 'html.parser')\n",
        "id_soup.p['id']"
      ],
      "metadata": {
        "colab": {
          "base_uri": "https://localhost:8080/",
          "height": 36
        },
        "id": "h7DNJPvZnnEf",
        "outputId": "7cdf63ce-f3cd-4b83-b5c5-0227887a212b"
      },
      "execution_count": 61,
      "outputs": [
        {
          "output_type": "execute_result",
          "data": {
            "text/plain": [
              "'my id'"
            ],
            "application/vnd.google.colaboratory.intrinsic+json": {
              "type": "string"
            }
          },
          "metadata": {},
          "execution_count": 61
        }
      ]
    },
    {
      "cell_type": "markdown",
      "source": [
        "You can use get_attribute_list to get a value that's always a list, whether or not its a multivalued attribute."
      ],
      "metadata": {
        "id": "jTn1jbpmpCWg"
      }
    },
    {
      "cell_type": "code",
      "source": [
        "id_soup.p.get_attribute_list('id')"
      ],
      "metadata": {
        "colab": {
          "base_uri": "https://localhost:8080/",
          "height": 0
        },
        "id": "EQS57HSYp8tB",
        "outputId": "762393af-1c96-4ca9-e81c-3f533e1b3658"
      },
      "execution_count": 62,
      "outputs": [
        {
          "output_type": "execute_result",
          "data": {
            "text/plain": [
              "['my id']"
            ]
          },
          "metadata": {},
          "execution_count": 62
        }
      ]
    },
    {
      "cell_type": "markdown",
      "source": [
        "If you parse a document as XML, there are no  multivalued attributes."
      ],
      "metadata": {
        "id": "118jwPwIqI8R"
      }
    },
    {
      "cell_type": "code",
      "source": [
        "xml_soup=BeautifulSoup('<p class=\"body strikeout\"></p>','xml')\n",
        "xml_soup.p['class']"
      ],
      "metadata": {
        "colab": {
          "base_uri": "https://localhost:8080/",
          "height": 36
        },
        "id": "7vW2AkOOqR_Y",
        "outputId": "992d4ae0-8da7-430a-f602-13180531166a"
      },
      "execution_count": 63,
      "outputs": [
        {
          "output_type": "execute_result",
          "data": {
            "text/plain": [
              "'body strikeout'"
            ],
            "application/vnd.google.colaboratory.intrinsic+json": {
              "type": "string"
            }
          },
          "metadata": {},
          "execution_count": 63
        }
      ]
    },
    {
      "cell_type": "markdown",
      "source": [
        "One useful package for web scraping that you can find in python std library is urllib which contains tools for working with URLs.In paticular, the\n",
        "urllib.request module contains function called urlopen() that you can use to open a URL within a program."
      ],
      "metadata": {
        "id": "1bakc9bJadr0"
      }
    },
    {
      "cell_type": "code",
      "source": [
        "pip install urlopen"
      ],
      "metadata": {
        "colab": {
          "base_uri": "https://localhost:8080/",
          "height": 0
        },
        "id": "evvNq22agkfz",
        "outputId": "bfb17e24-afad-4ca9-870f-fe2532e943ec"
      },
      "execution_count": 64,
      "outputs": [
        {
          "output_type": "stream",
          "name": "stdout",
          "text": [
            "Collecting urlopen\n",
            "  Downloading urlopen-1.0.0.zip (2.1 kB)\n",
            "  Preparing metadata (setup.py) ... \u001b[?25l\u001b[?25hdone\n",
            "Building wheels for collected packages: urlopen\n",
            "  Building wheel for urlopen (setup.py) ... \u001b[?25l\u001b[?25hdone\n",
            "  Created wheel for urlopen: filename=urlopen-1.0.0-py3-none-any.whl size=1383 sha256=97c8b91c441733f1242fc05ff4082aeaed51d6913c672bed828fe3c8d37cf377\n",
            "  Stored in directory: /root/.cache/pip/wheels/6c/48/27/6bdee97affb7718f3ad2215a99a8066a0e40e07000e0afda54\n",
            "Successfully built urlopen\n",
            "Installing collected packages: urlopen\n",
            "Successfully installed urlopen-1.0.0\n"
          ]
        }
      ]
    },
    {
      "cell_type": "code",
      "source": [
        "from urllib.request import urlopen"
      ],
      "metadata": {
        "id": "yFkCajLoag6A"
      },
      "execution_count": 65,
      "outputs": []
    },
    {
      "cell_type": "code",
      "source": [
        "url=\"http://olympus.realpython.org/profiles/aphrodite\""
      ],
      "metadata": {
        "id": "LO5kFfahas8I"
      },
      "execution_count": 66,
      "outputs": []
    },
    {
      "cell_type": "markdown",
      "source": [
        "urlopen() returns an HTTPResponse object."
      ],
      "metadata": {
        "id": "EGYSoW9IdNHB"
      }
    },
    {
      "cell_type": "code",
      "source": [
        "page=urlopen(url)"
      ],
      "metadata": {
        "id": "2aqT48UNa2Nb"
      },
      "execution_count": 67,
      "outputs": []
    },
    {
      "cell_type": "code",
      "source": [
        "page"
      ],
      "metadata": {
        "colab": {
          "base_uri": "https://localhost:8080/",
          "height": 0
        },
        "id": "vh68ofDLdgrx",
        "outputId": "9824dad0-fad0-4796-c225-a691093f81cc"
      },
      "execution_count": 68,
      "outputs": [
        {
          "output_type": "execute_result",
          "data": {
            "text/plain": [
              "<http.client.HTTPResponse at 0x790aea562f50>"
            ]
          },
          "metadata": {},
          "execution_count": 68
        }
      ]
    },
    {
      "cell_type": "markdown",
      "source": [
        "To extract HTML from the page, first use the HTTPResponse object's .read() method, which retuns a sequence of bytes. Then use .decode() to decode the bytes to a string using UTF-8."
      ],
      "metadata": {
        "id": "3kRmiAVBdqSy"
      }
    },
    {
      "cell_type": "code",
      "source": [
        "html_bytes=page.read()\n",
        "html=html_bytes.decode(\"utf-8\")"
      ],
      "metadata": {
        "id": "uzB0JkkqeClR"
      },
      "execution_count": 69,
      "outputs": []
    },
    {
      "cell_type": "markdown",
      "source": [
        "Now you can print(html) to see the contents of the webpage."
      ],
      "metadata": {
        "id": "Oy861jGvf_Kb"
      }
    },
    {
      "cell_type": "code",
      "source": [
        "print(html)"
      ],
      "metadata": {
        "colab": {
          "base_uri": "https://localhost:8080/",
          "height": 0
        },
        "id": "naYhzLmggIA5",
        "outputId": "9ec3be09-1350-4501-c2f0-b9b50136506d"
      },
      "execution_count": 70,
      "outputs": [
        {
          "output_type": "stream",
          "name": "stdout",
          "text": [
            "<html>\n",
            "<head>\n",
            "<title>Profile: Aphrodite</title>\n",
            "</head>\n",
            "<body bgcolor=\"yellow\">\n",
            "<center>\n",
            "<br><br>\n",
            "<img src=\"/static/aphrodite.gif\" />\n",
            "<h2>Name: Aphrodite</h2>\n",
            "<br><br>\n",
            "Favorite animal: Dove\n",
            "<br><br>\n",
            "Favorite color: Red\n",
            "<br><br>\n",
            "Hometown: Mount Olympus\n",
            "</center>\n",
            "</body>\n",
            "</html>\n",
            "\n"
          ]
        }
      ]
    },
    {
      "cell_type": "markdown",
      "source": [
        "With urllib, you can access the website similarly to how you would in your browser. However, instead of rendering the content visually, you grabbed the sourec code as text. We can extract information from the HTML text in couple of different ways"
      ],
      "metadata": {
        "id": "wtMwc8SMis4S"
      }
    },
    {
      "cell_type": "markdown",
      "source": [
        "Extract text fom HTML with String methods"
      ],
      "metadata": {
        "id": "y5G0YCI4iwYV"
      }
    },
    {
      "cell_type": "markdown",
      "source": [
        "One way to extract information from a webpage's HTML is to use string methods.\n",
        "You can use .find() to search through the text of the HTML for the tags and extract the title of the webpage.\n",
        "\n",
        "To start, you'll extract the title of the webpage that you requested in the previous example. If you know the index of the first character of the title and the index of the first character of the closing tag, then you can use a string slice to extract the title.\n",
        "\n",
        ".find() returns the index of the first occurence of substring, you can get the index of the opening tag by passing the string \"<title>\" to .find().\n",
        "The find() method returns -1 if the value is not found.\n",
        "The find() method is almost the same as the index() method, but index() passes an exception if the value is not found.\n",
        "Syntax: string.find(value,start,end)\n",
        "Default value for start and end is 0 and up to the end of string.\n",
        "Both start and end values are optional."
      ],
      "metadata": {
        "id": "rk6PfRrHjBA0"
      }
    },
    {
      "cell_type": "code",
      "source": [
        "title_index=html.find(\"<title>\")\n",
        "title_index"
      ],
      "metadata": {
        "colab": {
          "base_uri": "https://localhost:8080/",
          "height": 0
        },
        "id": "IGQwGmnOjRO4",
        "outputId": "185ad4d9-000c-49b8-b88e-52ef3c066c59"
      },
      "execution_count": 71,
      "outputs": [
        {
          "output_type": "execute_result",
          "data": {
            "text/plain": [
              "14"
            ]
          },
          "metadata": {},
          "execution_count": 71
        }
      ]
    },
    {
      "cell_type": "markdown",
      "source": [
        "To get the index of the title"
      ],
      "metadata": {
        "id": "ZqL2PJK2kr9q"
      }
    },
    {
      "cell_type": "code",
      "source": [
        "start_index=title_index+len(\"<title>\")\n",
        "start_index"
      ],
      "metadata": {
        "colab": {
          "base_uri": "https://localhost:8080/",
          "height": 0
        },
        "id": "Chdkg-EQkv8-",
        "outputId": "9eab5f6a-e731-4e35-f409-9b796e6ddfff"
      },
      "execution_count": 72,
      "outputs": [
        {
          "output_type": "execute_result",
          "data": {
            "text/plain": [
              "21"
            ]
          },
          "metadata": {},
          "execution_count": 72
        }
      ]
    },
    {
      "cell_type": "markdown",
      "source": [
        "To get the index of the closing tag by passing the string \"\" to .find():"
      ],
      "metadata": {
        "id": "yD3SRZq0lJpf"
      }
    },
    {
      "cell_type": "code",
      "source": [
        "end_index=html.find(\"</title>\")\n",
        "end_index"
      ],
      "metadata": {
        "colab": {
          "base_uri": "https://localhost:8080/",
          "height": 0
        },
        "id": "J3pGEtsklR7m",
        "outputId": "a6a4707f-3a1a-4563-f037-9a372eb3635c"
      },
      "execution_count": 73,
      "outputs": [
        {
          "output_type": "execute_result",
          "data": {
            "text/plain": [
              "39"
            ]
          },
          "metadata": {},
          "execution_count": 73
        }
      ]
    },
    {
      "cell_type": "markdown",
      "source": [
        "Now we can extract the title by slicing the html string"
      ],
      "metadata": {
        "id": "of6anXXwlrbR"
      }
    },
    {
      "cell_type": "code",
      "source": [
        "title=html[start_index:end_index]\n",
        "title"
      ],
      "metadata": {
        "colab": {
          "base_uri": "https://localhost:8080/",
          "height": 36
        },
        "id": "leo4hNgZmIZ0",
        "outputId": "6eab190d-ec64-49b0-f4c3-93540fcec3c0"
      },
      "execution_count": 74,
      "outputs": [
        {
          "output_type": "execute_result",
          "data": {
            "text/plain": [
              "'Profile: Aphrodite'"
            ],
            "application/vnd.google.colaboratory.intrinsic+json": {
              "type": "string"
            }
          },
          "metadata": {},
          "execution_count": 74
        }
      ]
    },
    {
      "cell_type": "markdown",
      "source": [
        "Example 2"
      ],
      "metadata": {
        "id": "b2pV3TuBm-22"
      }
    },
    {
      "cell_type": "code",
      "source": [
        "url=\"http://olympus.realpython.org/profiles/poseidon\""
      ],
      "metadata": {
        "id": "VnyXEzbUnBuX"
      },
      "execution_count": 75,
      "outputs": []
    },
    {
      "cell_type": "code",
      "source": [
        "page=urlopen(url)"
      ],
      "metadata": {
        "id": "sXkkeyaZneC2"
      },
      "execution_count": 76,
      "outputs": []
    },
    {
      "cell_type": "code",
      "source": [
        "page"
      ],
      "metadata": {
        "colab": {
          "base_uri": "https://localhost:8080/",
          "height": 0
        },
        "id": "pKsjVMRQnhJt",
        "outputId": "bae0cf18-7867-47a6-e8df-01b88dc3918c"
      },
      "execution_count": 77,
      "outputs": [
        {
          "output_type": "execute_result",
          "data": {
            "text/plain": [
              "<http.client.HTTPResponse at 0x790aea563730>"
            ]
          },
          "metadata": {},
          "execution_count": 77
        }
      ]
    },
    {
      "cell_type": "code",
      "source": [
        "html_bytes=page.read()\n",
        "html=html_bytes.decode(\"utf-8\")"
      ],
      "metadata": {
        "id": "UexLon8mnlW_"
      },
      "execution_count": 78,
      "outputs": []
    },
    {
      "cell_type": "code",
      "source": [
        "print(html)"
      ],
      "metadata": {
        "colab": {
          "base_uri": "https://localhost:8080/",
          "height": 0
        },
        "id": "CPpHU4qVnn2-",
        "outputId": "267392e3-fe52-4d82-d6b1-01fdaa63fe1d"
      },
      "execution_count": 79,
      "outputs": [
        {
          "output_type": "stream",
          "name": "stdout",
          "text": [
            "<html>\n",
            "<head>\n",
            "<title >Profile: Poseidon</title>\n",
            "</head>\n",
            "<body bgcolor=\"yellow\">\n",
            "<center>\n",
            "<br><br>\n",
            "<img src=\"/static/poseidon.jpg\" />\n",
            "<h2>Name: Poseidon</h2>\n",
            "<br><br>\n",
            "Favorite animal: Dolphin\n",
            "<br><br>\n",
            "Favorite color: Blue\n",
            "<br><br>\n",
            "Hometown: Sea\n",
            "</center>\n",
            "</body>\n",
            "</html>\n",
            "\n"
          ]
        }
      ]
    },
    {
      "cell_type": "code",
      "source": [
        "title_index=html.find(\"<title>\")\n",
        "title_index"
      ],
      "metadata": {
        "colab": {
          "base_uri": "https://localhost:8080/",
          "height": 0
        },
        "id": "DgmgxIKyntaG",
        "outputId": "158d3e3d-99d4-4c75-b4cd-4e21740f20ae"
      },
      "execution_count": 80,
      "outputs": [
        {
          "output_type": "execute_result",
          "data": {
            "text/plain": [
              "-1"
            ]
          },
          "metadata": {},
          "execution_count": 80
        }
      ]
    },
    {
      "cell_type": "code",
      "source": [
        "start_index=html.find(\"<title>\")+len(\"<title>\")\n",
        "start_index"
      ],
      "metadata": {
        "colab": {
          "base_uri": "https://localhost:8080/",
          "height": 0
        },
        "id": "x8_r0TOJnvYt",
        "outputId": "51e190a0-2923-4f0a-d27c-68b219db0bda"
      },
      "execution_count": 81,
      "outputs": [
        {
          "output_type": "execute_result",
          "data": {
            "text/plain": [
              "6"
            ]
          },
          "metadata": {},
          "execution_count": 81
        }
      ]
    },
    {
      "cell_type": "code",
      "source": [
        "end_index=html.find(\"</title>\")\n",
        "end_index"
      ],
      "metadata": {
        "colab": {
          "base_uri": "https://localhost:8080/",
          "height": 0
        },
        "id": "RidQd98_n0yO",
        "outputId": "cbfa7b4e-2ec6-47e7-d35a-cbf57502bd11"
      },
      "execution_count": 82,
      "outputs": [
        {
          "output_type": "execute_result",
          "data": {
            "text/plain": [
              "39"
            ]
          },
          "metadata": {},
          "execution_count": 82
        }
      ]
    },
    {
      "cell_type": "code",
      "source": [
        "title=html[start_index:end_index]\n",
        "title"
      ],
      "metadata": {
        "colab": {
          "base_uri": "https://localhost:8080/",
          "height": 36
        },
        "id": "s_Y-2Q81n4B9",
        "outputId": "cc9a9920-7a8a-4d95-ce8d-90f5f230e5b4"
      },
      "execution_count": 83,
      "outputs": [
        {
          "output_type": "execute_result",
          "data": {
            "text/plain": [
              "'\\n<head>\\n<title >Profile: Poseidon'"
            ],
            "application/vnd.google.colaboratory.intrinsic+json": {
              "type": "string"
            }
          },
          "metadata": {},
          "execution_count": 83
        }
      ]
    },
    {
      "cell_type": "markdown",
      "source": [
        "Above result is improper because the title tag has a space in it."
      ],
      "metadata": {
        "id": "m9DtwhippV7_"
      }
    },
    {
      "cell_type": "markdown",
      "source": [
        "Regular expressions"
      ],
      "metadata": {
        "id": "QAaReWeeqT0O"
      }
    },
    {
      "cell_type": "code",
      "source": [
        "import re"
      ],
      "metadata": {
        "id": "0WukIMGGqdlV"
      },
      "execution_count": 84,
      "outputs": []
    },
    {
      "cell_type": "markdown",
      "source": [
        "Metacharacters include * or +\n",
        "\n",
        "Use findall() to find any text within a string that matches a given regex ."
      ],
      "metadata": {
        "id": "N6tf36ztqx9l"
      }
    },
    {
      "cell_type": "code",
      "source": [
        "re.findall(\"ab*c\",\"ac\")"
      ],
      "metadata": {
        "colab": {
          "base_uri": "https://localhost:8080/",
          "height": 0
        },
        "id": "gqVzImC2rEWW",
        "outputId": "f6309714-9636-4d35-8290-ec08477a61f3"
      },
      "execution_count": 85,
      "outputs": [
        {
          "output_type": "execute_result",
          "data": {
            "text/plain": [
              "['ac']"
            ]
          },
          "metadata": {},
          "execution_count": 85
        }
      ]
    },
    {
      "cell_type": "code",
      "source": [
        "re.findall(\"ab*c\",\"abcd\")"
      ],
      "metadata": {
        "colab": {
          "base_uri": "https://localhost:8080/",
          "height": 0
        },
        "id": "RAIbQ1W1rcUl",
        "outputId": "aa056e1d-79c7-413a-e618-180d3e53000a"
      },
      "execution_count": 86,
      "outputs": [
        {
          "output_type": "execute_result",
          "data": {
            "text/plain": [
              "['abc']"
            ]
          },
          "metadata": {},
          "execution_count": 86
        }
      ]
    },
    {
      "cell_type": "code",
      "source": [
        "re.findall(\"ab*c\",\"ABC\")"
      ],
      "metadata": {
        "colab": {
          "base_uri": "https://localhost:8080/",
          "height": 0
        },
        "id": "Zz-bEswmrfNO",
        "outputId": "2329a376-ccf2-4875-817b-f94a742657af"
      },
      "execution_count": 87,
      "outputs": [
        {
          "output_type": "execute_result",
          "data": {
            "text/plain": [
              "[]"
            ]
          },
          "metadata": {},
          "execution_count": 87
        }
      ]
    },
    {
      "cell_type": "code",
      "source": [
        "re.findall(\"ab*c\",\"ABC\", re.IGNORECASE)"
      ],
      "metadata": {
        "colab": {
          "base_uri": "https://localhost:8080/",
          "height": 0
        },
        "id": "kNvP6ampr4mm",
        "outputId": "200888f1-ff7a-4634-d48f-7fb8a8513a37"
      },
      "execution_count": 88,
      "outputs": [
        {
          "output_type": "execute_result",
          "data": {
            "text/plain": [
              "['ABC']"
            ]
          },
          "metadata": {},
          "execution_count": 88
        }
      ]
    },
    {
      "cell_type": "markdown",
      "source": [
        ".(dot) - single character\n",
        "\n",
        "```\n",
        "# This is formatted as code\n",
        "```\n",
        "\n"
      ],
      "metadata": {
        "id": "ReywOCrIsNho"
      }
    },
    {
      "cell_type": "code",
      "source": [
        "re.findall(\"a.c\",\"abbc\")"
      ],
      "metadata": {
        "colab": {
          "base_uri": "https://localhost:8080/",
          "height": 0
        },
        "id": "A2s_vA7vsQi0",
        "outputId": "df3903ac-79ae-472d-ceaa-b31aa0f7820e"
      },
      "execution_count": 89,
      "outputs": [
        {
          "output_type": "execute_result",
          "data": {
            "text/plain": [
              "[]"
            ]
          },
          "metadata": {},
          "execution_count": 89
        }
      ]
    },
    {
      "cell_type": "code",
      "source": [
        "re.findall(\"a.c\",\"abc\")"
      ],
      "metadata": {
        "colab": {
          "base_uri": "https://localhost:8080/",
          "height": 0
        },
        "id": "aRqqdhXrsY9k",
        "outputId": "9926e6e8-cee2-44db-8b28-fad870757b17"
      },
      "execution_count": 90,
      "outputs": [
        {
          "output_type": "execute_result",
          "data": {
            "text/plain": [
              "['abc']"
            ]
          },
          "metadata": {},
          "execution_count": 90
        }
      ]
    },
    {
      "cell_type": "markdown",
      "source": [
        ".* - one or more characters"
      ],
      "metadata": {
        "id": "oF7hnXV5sjVy"
      }
    },
    {
      "cell_type": "code",
      "source": [
        "re.findall(\"a.*c\",\"abbc\")"
      ],
      "metadata": {
        "colab": {
          "base_uri": "https://localhost:8080/",
          "height": 0
        },
        "id": "M-aTxXMLsxh1",
        "outputId": "e90ec369-255d-44f1-89fc-a78ebbfa6352"
      },
      "execution_count": 91,
      "outputs": [
        {
          "output_type": "execute_result",
          "data": {
            "text/plain": [
              "['abbc']"
            ]
          },
          "metadata": {},
          "execution_count": 91
        }
      ]
    },
    {
      "cell_type": "code",
      "source": [
        "re.findall(\"a.*c\",\"abc\")"
      ],
      "metadata": {
        "colab": {
          "base_uri": "https://localhost:8080/",
          "height": 0
        },
        "id": "TT-j2FE3s7lV",
        "outputId": "58541ff0-14a9-4c05-fce7-ef2196380891"
      },
      "execution_count": 92,
      "outputs": [
        {
          "output_type": "execute_result",
          "data": {
            "text/plain": [
              "['abc']"
            ]
          },
          "metadata": {},
          "execution_count": 92
        }
      ]
    },
    {
      "cell_type": "markdown",
      "source": [
        "Represent a character class"
      ],
      "metadata": {
        "id": "-Ks3OPTEtM0W"
      }
    },
    {
      "cell_type": "code",
      "source": [
        "re.findall(\"[a-z]\",\"abbc\")"
      ],
      "metadata": {
        "colab": {
          "base_uri": "https://localhost:8080/",
          "height": 0
        },
        "id": "yGc3qpqjtRxV",
        "outputId": "3b12a97e-2756-47d8-eccd-f0c53c0747c7"
      },
      "execution_count": 93,
      "outputs": [
        {
          "output_type": "execute_result",
          "data": {
            "text/plain": [
              "['a', 'b', 'b', 'c']"
            ]
          },
          "metadata": {},
          "execution_count": 93
        }
      ]
    },
    {
      "cell_type": "code",
      "source": [
        "re.findall(\"[A-Z]\",\"abbc\")"
      ],
      "metadata": {
        "colab": {
          "base_uri": "https://localhost:8080/",
          "height": 0
        },
        "id": "qvSpaqjDtYon",
        "outputId": "15761538-d7d5-4f12-afeb-778c0e3496e1"
      },
      "execution_count": 94,
      "outputs": [
        {
          "output_type": "execute_result",
          "data": {
            "text/plain": [
              "[]"
            ]
          },
          "metadata": {},
          "execution_count": 94
        }
      ]
    },
    {
      "cell_type": "code",
      "source": [
        "re.findall(\"[A-Z]\",\"abbcDEFGH\",re.IGNORECASE)"
      ],
      "metadata": {
        "colab": {
          "base_uri": "https://localhost:8080/",
          "height": 0
        },
        "id": "VAQqfo4BtcV-",
        "outputId": "fb54e0ab-45eb-4cb0-9e35-48fe47394bd0"
      },
      "execution_count": 95,
      "outputs": [
        {
          "output_type": "execute_result",
          "data": {
            "text/plain": [
              "['a', 'b', 'b', 'c', 'D', 'E', 'F', 'G', 'H']"
            ]
          },
          "metadata": {},
          "execution_count": 95
        }
      ]
    },
    {
      "cell_type": "markdown",
      "source": [
        "^ carat symbol"
      ],
      "metadata": {
        "id": "w7J5aszpt4dF"
      }
    },
    {
      "cell_type": "code",
      "source": [
        "re.findall(\"[^a-z]\",\"abbc\")"
      ],
      "metadata": {
        "colab": {
          "base_uri": "https://localhost:8080/",
          "height": 0
        },
        "id": "h2usoq0LuJrV",
        "outputId": "8b488dde-dbfd-4e27-a12b-750474c8f987"
      },
      "execution_count": 96,
      "outputs": [
        {
          "output_type": "execute_result",
          "data": {
            "text/plain": [
              "[]"
            ]
          },
          "metadata": {},
          "execution_count": 96
        }
      ]
    },
    {
      "cell_type": "code",
      "source": [
        "re.findall(\"[^a-z]\",\"abbc123445\")"
      ],
      "metadata": {
        "colab": {
          "base_uri": "https://localhost:8080/",
          "height": 0
        },
        "id": "ekS9E1YmuMJb",
        "outputId": "dbf6adbc-5e79-49da-8a01-ce8af695a0bc"
      },
      "execution_count": 97,
      "outputs": [
        {
          "output_type": "execute_result",
          "data": {
            "text/plain": [
              "['1', '2', '3', '4', '4', '5']"
            ]
          },
          "metadata": {},
          "execution_count": 97
        }
      ]
    },
    {
      "cell_type": "markdown",
      "source": [
        "$ end matching"
      ],
      "metadata": {
        "id": "GIzyx_rXulA2"
      }
    },
    {
      "cell_type": "code",
      "source": [
        "re.findall(\"5$\",\"abbc5\")"
      ],
      "metadata": {
        "colab": {
          "base_uri": "https://localhost:8080/",
          "height": 0
        },
        "id": "ydOV5JXIuWRu",
        "outputId": "3e9431b8-827c-4adc-ab7b-e3e890a6c564"
      },
      "execution_count": 98,
      "outputs": [
        {
          "output_type": "execute_result",
          "data": {
            "text/plain": [
              "['5']"
            ]
          },
          "metadata": {},
          "execution_count": 98
        }
      ]
    },
    {
      "cell_type": "code",
      "source": [
        "re.findall(\"$my\",\"abbc\")"
      ],
      "metadata": {
        "colab": {
          "base_uri": "https://localhost:8080/",
          "height": 0
        },
        "id": "Go7nNhh5uvt2",
        "outputId": "0de8e726-5717-4fa8-9dd1-f3e8ab496ec0"
      },
      "execution_count": 99,
      "outputs": [
        {
          "output_type": "execute_result",
          "data": {
            "text/plain": [
              "[]"
            ]
          },
          "metadata": {},
          "execution_count": 99
        }
      ]
    },
    {
      "cell_type": "markdown",
      "source": [
        "| or (matches either of it)"
      ],
      "metadata": {
        "id": "Ii1wH7Y2vSog"
      }
    },
    {
      "cell_type": "code",
      "source": [
        "re.findall(\"ab|my\",\"abbc\")"
      ],
      "metadata": {
        "colab": {
          "base_uri": "https://localhost:8080/",
          "height": 0
        },
        "id": "7Oxj14h3vAsF",
        "outputId": "54fe6042-180c-4f87-d7b4-361fb655dc80"
      },
      "execution_count": 100,
      "outputs": [
        {
          "output_type": "execute_result",
          "data": {
            "text/plain": [
              "['ab']"
            ]
          },
          "metadata": {},
          "execution_count": 100
        }
      ]
    },
    {
      "cell_type": "code",
      "source": [
        "re.findall(\"[0-9]|b\",\"abbc345678\")"
      ],
      "metadata": {
        "colab": {
          "base_uri": "https://localhost:8080/",
          "height": 0
        },
        "id": "7LD5Sktlu_zG",
        "outputId": "4d58fd85-1bcb-4c52-cda8-f21d5f764fc5"
      },
      "execution_count": 101,
      "outputs": [
        {
          "output_type": "execute_result",
          "data": {
            "text/plain": [
              "['b', 'b', '3', '4', '5', '6', '7', '8']"
            ]
          },
          "metadata": {},
          "execution_count": 101
        }
      ]
    },
    {
      "cell_type": "markdown",
      "source": [
        "? matches zero or one occurence."
      ],
      "metadata": {
        "id": "nz_FoC8FvbdV"
      }
    },
    {
      "cell_type": "code",
      "source": [
        "re.findall(\"ab?\",\"abbc degh ijkl\")"
      ],
      "metadata": {
        "colab": {
          "base_uri": "https://localhost:8080/",
          "height": 0
        },
        "id": "TwIeb2HOvlWE",
        "outputId": "12ddb934-9c2a-4f97-c506-bc83969b1245"
      },
      "execution_count": 102,
      "outputs": [
        {
          "output_type": "execute_result",
          "data": {
            "text/plain": [
              "['ab']"
            ]
          },
          "metadata": {},
          "execution_count": 102
        }
      ]
    },
    {
      "cell_type": "markdown",
      "source": [
        "+one or more occurence"
      ],
      "metadata": {
        "id": "p2oEeFRKwGNO"
      }
    },
    {
      "cell_type": "code",
      "source": [
        "re.findall(\"ab+\",\"abbbbbbc deggg\")"
      ],
      "metadata": {
        "colab": {
          "base_uri": "https://localhost:8080/",
          "height": 0
        },
        "id": "8iltdQJsv33e",
        "outputId": "db1b6bcd-35e2-4b79-f0cb-c08a3a056b9a"
      },
      "execution_count": 103,
      "outputs": [
        {
          "output_type": "execute_result",
          "data": {
            "text/plain": [
              "['abbbbbb']"
            ]
          },
          "metadata": {},
          "execution_count": 103
        }
      ]
    },
    {
      "cell_type": "markdown",
      "source": [
        "{} inside curly braces minimum and max value will be represented."
      ],
      "metadata": {
        "id": "sFXtsMkYwJ_d"
      }
    },
    {
      "cell_type": "code",
      "source": [
        "re.findall(\"ab{1,3}\",\"abb abbmmm cde admty\")"
      ],
      "metadata": {
        "colab": {
          "base_uri": "https://localhost:8080/",
          "height": 0
        },
        "id": "5PpghWKawnbu",
        "outputId": "3bc33e42-f52a-4422-cad4-07b34f2dba9d"
      },
      "execution_count": 104,
      "outputs": [
        {
          "output_type": "execute_result",
          "data": {
            "text/plain": [
              "['abb', 'abb']"
            ]
          },
          "metadata": {},
          "execution_count": 104
        }
      ]
    },
    {
      "cell_type": "markdown",
      "source": [
        "To extract the title from the website"
      ],
      "metadata": {
        "id": "VFwKDMiVob5F"
      }
    },
    {
      "cell_type": "code",
      "source": [
        "import requests\n",
        "from bs4 import BeautifulSoup\n",
        "#Make a get request to the website\n",
        "response=requests.get(\"https://example.com/\")\n",
        "#Parse the html parser to the website's content\n",
        "soup=BeautifulSoup(response.content,'html.parser')\n",
        "#Find the title and extract its text\n",
        "title=soup.find('title').text\n",
        "#Print the title\n",
        "print(title)\n"
      ],
      "metadata": {
        "colab": {
          "base_uri": "https://localhost:8080/",
          "height": 0
        },
        "id": "fofXeMf2lei9",
        "outputId": "0131c46c-673e-4aeb-cc45-e29b6339f4ae"
      },
      "execution_count": 105,
      "outputs": [
        {
          "output_type": "stream",
          "name": "stdout",
          "text": [
            "Example Domain\n"
          ]
        }
      ]
    },
    {
      "cell_type": "code",
      "source": [
        "import requests\n",
        "from bs4 import BeautifulSoup\n",
        "#Make a get request to the website\n",
        "response=requests.get(\"https://github.com\")\n",
        "#Parse the html parser to the website's content\n",
        "soup=BeautifulSoup(response.content,'html.parser')\n",
        "#Find the title and extract its text\n",
        "title=soup.find('title').text\n",
        "#Print the title\n",
        "print(title)"
      ],
      "metadata": {
        "colab": {
          "base_uri": "https://localhost:8080/",
          "height": 0
        },
        "id": "tzAZt1kNngTV",
        "outputId": "96c129df-df10-428f-f22b-f479b9dce664"
      },
      "execution_count": 106,
      "outputs": [
        {
          "output_type": "stream",
          "name": "stdout",
          "text": [
            "GitHub: Let’s build from here · GitHub\n"
          ]
        }
      ]
    },
    {
      "cell_type": "code",
      "source": [
        "import requests\n",
        "from bs4 import BeautifulSoup\n",
        "#Make a get request to the website\n",
        "response=requests.get(\"https://jupyter.org\")\n",
        "#Parse the html parser to the website's content\n",
        "soup=BeautifulSoup(response.content,'html.parser')\n",
        "#Find the title and extract its text\n",
        "title=soup.find('title').text\n",
        "#Print the title\n",
        "print(title)"
      ],
      "metadata": {
        "colab": {
          "base_uri": "https://localhost:8080/",
          "height": 0
        },
        "id": "Ha6qwudCnp0c",
        "outputId": "bd8e0590-6371-4f89-8002-79adf8930e3a"
      },
      "execution_count": 107,
      "outputs": [
        {
          "output_type": "stream",
          "name": "stdout",
          "text": [
            "Project Jupyter | Home\n"
          ]
        }
      ]
    },
    {
      "cell_type": "markdown",
      "source": [
        "To get the text from the website"
      ],
      "metadata": {
        "id": "kb0xv49poost"
      }
    },
    {
      "cell_type": "code",
      "source": [
        "import requests\n",
        "from bs4 import BeautifulSoup\n",
        "#Make a get request to the website\n",
        "response=requests.get(\"https://example.com/\")\n",
        "#Parse the html parser to the website's content\n",
        "soup=BeautifulSoup(response.content,'html.parser')\n",
        "#Get the text from the website\n",
        "text=soup.get_text\n",
        "#Print the title\n",
        "print(text)"
      ],
      "metadata": {
        "colab": {
          "base_uri": "https://localhost:8080/",
          "height": 0
        },
        "id": "__rSBfuAosdU",
        "outputId": "3eafbd51-1277-4ae9-e792-ddfc11f536e3"
      },
      "execution_count": 108,
      "outputs": [
        {
          "output_type": "stream",
          "name": "stdout",
          "text": [
            "<bound method PageElement.get_text of <!DOCTYPE html>\n",
            "\n",
            "<html>\n",
            "<head>\n",
            "<title>Example Domain</title>\n",
            "<meta charset=\"utf-8\"/>\n",
            "<meta content=\"text/html; charset=utf-8\" http-equiv=\"Content-type\"/>\n",
            "<meta content=\"width=device-width, initial-scale=1\" name=\"viewport\"/>\n",
            "<style type=\"text/css\">\n",
            "    body {\n",
            "        background-color: #f0f0f2;\n",
            "        margin: 0;\n",
            "        padding: 0;\n",
            "        font-family: -apple-system, system-ui, BlinkMacSystemFont, \"Segoe UI\", \"Open Sans\", \"Helvetica Neue\", Helvetica, Arial, sans-serif;\n",
            "        \n",
            "    }\n",
            "    div {\n",
            "        width: 600px;\n",
            "        margin: 5em auto;\n",
            "        padding: 2em;\n",
            "        background-color: #fdfdff;\n",
            "        border-radius: 0.5em;\n",
            "        box-shadow: 2px 3px 7px 2px rgba(0,0,0,0.02);\n",
            "    }\n",
            "    a:link, a:visited {\n",
            "        color: #38488f;\n",
            "        text-decoration: none;\n",
            "    }\n",
            "    @media (max-width: 700px) {\n",
            "        div {\n",
            "            margin: 0 auto;\n",
            "            width: auto;\n",
            "        }\n",
            "    }\n",
            "    </style>\n",
            "</head>\n",
            "<body>\n",
            "<div>\n",
            "<h1>Example Domain</h1>\n",
            "<p>This domain is for use in illustrative examples in documents. You may use this\n",
            "    domain in literature without prior coordination or asking for permission.</p>\n",
            "<p><a href=\"https://www.iana.org/domains/example\">More information...</a></p>\n",
            "</div>\n",
            "</body>\n",
            "</html>\n",
            ">\n"
          ]
        }
      ]
    },
    {
      "cell_type": "code",
      "source": [
        "import requests\n",
        "from bs4 import BeautifulSoup\n",
        "#Make a get request to the website\n",
        "response=requests.get(\"https://jupyter.org/\")\n",
        "#Parse the html parser to the website's content\n",
        "soup=BeautifulSoup(response.content,'html.parser')\n",
        "#Get the text from the website\n",
        "text=soup.get_text()\n",
        "#Print the title\n",
        "print(text)"
      ],
      "metadata": {
        "colab": {
          "base_uri": "https://localhost:8080/",
          "height": 0
        },
        "id": "0b8SzeejpVRR",
        "outputId": "ae502b66-a3de-4ad7-fa9e-eab7a7448761"
      },
      "execution_count": 109,
      "outputs": [
        {
          "output_type": "stream",
          "name": "stdout",
          "text": [
            "\n",
            "\n",
            "\n",
            "\n",
            "\n",
            "\n",
            "Project Jupyter | Home\n",
            "\n",
            "\n",
            "\n",
            "\n",
            "\n",
            "\n",
            "\n",
            "\n",
            "\n",
            "\n",
            "\n",
            "\n",
            "\n",
            "\n",
            "\n",
            "\n",
            "\n",
            "\n",
            "\n",
            "\n",
            "\n",
            "\n",
            "\n",
            "\n",
            "\n",
            "\n",
            "\n",
            "\n",
            "Toggle navigation\n",
            "\n",
            "\n",
            "\n",
            "\n",
            "\n",
            "\n",
            "\n",
            "\n",
            "                   Try\n",
            "               \n",
            "\n",
            "\n",
            "                   Install\n",
            "               \n",
            "\n",
            "\n",
            "                   Get Involved\n",
            "               \n",
            "\n",
            "\n",
            "                   Documentation\n",
            "               \n",
            "\n",
            "\n",
            "                   News\n",
            "               \n",
            "\n",
            "\n",
            "                   Social\n",
            "               \n",
            "\n",
            "\n",
            "                   Governance\n",
            "               \n",
            "\n",
            "\n",
            "                   Security\n",
            "               \n",
            "\n",
            "\n",
            "                   About\n",
            "               \n",
            "\n",
            "\n",
            "\n",
            "\n",
            "\n",
            "\n",
            "\n",
            "\n",
            "\n",
            "\n",
            "\n",
            "\n",
            "\n",
            "\n",
            "\n",
            "\n",
            "\n",
            "\n",
            "\n",
            "\n",
            "\n",
            "\n",
            "\n",
            "\n",
            "\n",
            "\n",
            "\n",
            "\n",
            "\n",
            "\n",
            "\n",
            "\n",
            "\n",
            "\n",
            "Free software, open standards, and web services for interactive computing across all programming languages\n",
            "\n",
            "\n",
            "\n",
            "\n",
            "\n",
            "\n",
            "\n",
            "\n",
            "\n",
            "\n",
            "\n",
            "\n",
            "\n",
            "\n",
            "JupyterLab: A Next-Generation Notebook Interface\n",
            "JupyterLab is the latest web-based interactive development environment for notebooks, code, and data. Its flexible interface allows users to configure and arrange workflows in data science, scientific computing, computational journalism, and machine learning. A modular design invites extensions to expand and enrich functionality.\n",
            "\n",
            "Try it in your browser\n",
            "Install JupyterLab\n",
            "\n",
            "\n",
            "\n",
            "\n",
            "\n",
            "\n",
            "\n",
            "\n",
            "\n",
            "\n",
            "\n",
            "\n",
            "\n",
            "Jupyter Notebook: The Classic Notebook Interface\n",
            "The Jupyter Notebook is the original web application for creating and sharing computational documents. It offers a simple, streamlined, document-centric experience.\n",
            "\n",
            "Try it in your browser\n",
            "Install the Notebook\n",
            "\n",
            "\n",
            "\n",
            "\n",
            "\n",
            "\n",
            "Language of choice\n",
            "Jupyter supports over 40 programming languages, including Python, R, Julia, and Scala.\n",
            "\n",
            "\n",
            "\n",
            "Share notebooks\n",
            "Notebooks can be shared with others using email, Dropbox, GitHub and the Jupyter Notebook Viewer.\n",
            "\n",
            "\n",
            "\n",
            "Interactive output\n",
            "Your code can produce rich, interactive output: HTML, images, videos, LaTeX, and custom MIME types.\n",
            "\n",
            "\n",
            "\n",
            "Big data integration\n",
            "Leverage big data tools, such as Apache Spark, from Python, R, and Scala. Explore that same data with pandas, scikit-learn, ggplot2, and TensorFlow.\n",
            "\n",
            "\n",
            "\n",
            "\n",
            "\n",
            "\n",
            "\n",
            "\n",
            "\n",
            "A multi-user version of the notebook designed for companies, classrooms and research labs\n",
            "\n",
            "\n",
            "\n",
            "\n",
            "\n",
            "Pluggable authentication\n",
            "Manage users and authentication with PAM, OAuth or integrate with your own directory service system.\n",
            "\n",
            "\n",
            "\n",
            "Centralized deployment\n",
            "Deploy the Jupyter Notebook to thousands of users in your organization on centralized infrastructure on- or off-site.\n",
            "\n",
            "\n",
            "\n",
            "Container friendly\n",
            "Use Docker and Kubernetes to scale your deployment, isolate user processes, and simplify software installation.\n",
            "\n",
            "\n",
            "\n",
            "Code meets data\n",
            "Deploy the Notebook next to your data to provide unified software management and data access within your organization.\n",
            "\n",
            "\n",
            "\n",
            "Learn more about JupyterHub\n",
            "\n",
            "\n",
            "\n",
            "\n",
            "\n",
            "\n",
            "\n",
            "\n",
            "\n",
            "\n",
            "\n",
            "Voilà: Share your results\n",
            "Voilà helps communicate insights by transforming notebooks into secure, stand-alone web applications that you can customize and share.\n",
            "\n",
            "Try it in your browser\n",
            "Install Voilà\n",
            "\n",
            "\n",
            "\n",
            "\n",
            "\n",
            "Currently in use at\n",
            "\n",
            "\n",
            "\n",
            "\n",
            "\n",
            "\n",
            "\n",
            "\n",
            "\n",
            "\n",
            "\n",
            "\n",
            "\n",
            "\n",
            "\n",
            "\n",
            "\n",
            "\n",
            "\n",
            "\n",
            "\n",
            "\n",
            "\n",
            "\n",
            "\n",
            "\n",
            "\n",
            "\n",
            "\n",
            "\n",
            "\n",
            "\n",
            "\n",
            "\n",
            "\n",
            "\n",
            "\n",
            "\n",
            "\n",
            "\n",
            "\n",
            "\n",
            "\n",
            "\n",
            "\n",
            "\n",
            "\n",
            "\n",
            "\n",
            "\n",
            "\n",
            "\n",
            "\n",
            "\n",
            "\n",
            "\n",
            "\n",
            "\n",
            "\n",
            "\n",
            "\n",
            "\n",
            "\n",
            "\n",
            "\n",
            "\n",
            "\n",
            "\n",
            "\n",
            "\n",
            "\n",
            "\n",
            "\n",
            "\n",
            "\n",
            "\n",
            "\n",
            "\n",
            "\n",
            "\n",
            "\n",
            "\n",
            "\n",
            "\n",
            "\n",
            "\n",
            "\n",
            "\n",
            "\n",
            "\n",
            "\n",
            "\n",
            "\n",
            "\n",
            "\n",
            "\n",
            "\n",
            "\n",
            "\n",
            "\n",
            "\n",
            "\n",
            "\n",
            "\n",
            "\n",
            "\n",
            "\n",
            "\n",
            "\n",
            "\n",
            "\n",
            "\n",
            "\n",
            "\n",
            "\n",
            "\n",
            "\n",
            "\n",
            "\n",
            "\n",
            "\n",
            "\n",
            "\n",
            "\n",
            "\n",
            "\n",
            "\n",
            "\n",
            "\n",
            "\n",
            "\n",
            "\n",
            "\n",
            "\n",
            "\n",
            "\n",
            "\n",
            "\n",
            "\n",
            "\n",
            "\n",
            "\n",
            "\n",
            "\n",
            "\n",
            "Open Standards for Interactive Computing\n",
            "Project Jupyter promotes open standards that third-party developers can leverage to build customized applications. Think HTML and CSS for interactive computing on the web.\n",
            "\n",
            "\n",
            "\n",
            "\n",
            "Notebook Document Format\n",
            "Jupyter Notebooks are an open document format based on JSON. They contain a complete record of the user's sessions and include code, narrative text, equations, and rich output.\n",
            "\n",
            "\n",
            "\n",
            "Interactive Computing Protocol\n",
            "The Notebook communicates with computational Kernels using the Interactive Computing Protocol, an open network protocol based on JSON data over ZMQ, and WebSockets.\n",
            "\n",
            "\n",
            "\n",
            "The Kernel\n",
            "Kernels are processes that run interactive code in a particular programming language and return output to the user. Kernels also respond to tab completion and introspection requests.\n",
            "\n",
            "\n",
            "\n",
            "\n",
            "\n",
            "\n",
            "\n",
            "\n",
            "\n",
            "Project Jupyter\n",
            "\n",
            "\n",
            "                    Try\n",
            "                \n",
            "\n",
            "\n",
            "                    Install\n",
            "                \n",
            "\n",
            "\n",
            "                    Get Involved\n",
            "                \n",
            "\n",
            "\n",
            "                    Documentation\n",
            "                \n",
            "\n",
            "\n",
            "                    News\n",
            "                \n",
            "\n",
            "\n",
            "                    Social\n",
            "                \n",
            "\n",
            "\n",
            "                    Governance\n",
            "                \n",
            "\n",
            "\n",
            "                    Security\n",
            "                \n",
            "\n",
            "\n",
            "                    About\n",
            "                \n",
            "\n",
            "\n",
            "\n",
            "\n",
            "Subprojects\n",
            "\n",
            "\n",
            "                  Binder\n",
            "              \n",
            "\n",
            "\n",
            "                  JupyterHub\n",
            "              \n",
            "\n",
            "\n",
            "                  JupyterLab\n",
            "              \n",
            "\n",
            "\n",
            "                  Jupyter Notebook\n",
            "              \n",
            "\n",
            "\n",
            "                  Voilà\n",
            "              \n",
            "\n",
            "\n",
            "                  Widgets\n",
            "              \n",
            "\n",
            "\n",
            "\n",
            "\n",
            "Follow us\n",
            "\n",
            "\n",
            "                  GitHub\n",
            "              \n",
            "\n",
            "\n",
            "                  Mastodon\n",
            "              \n",
            "\n",
            "\n",
            "                  X\n",
            "              \n",
            "\n",
            "\n",
            "                  YouTube\n",
            "              \n",
            "\n",
            "\n",
            "Legal\n",
            "\n",
            "\n",
            "                  Privacy\n",
            "              \n",
            "\n",
            "\n",
            "\n",
            "\n",
            "\n",
            "\n",
            "\n",
            "\n",
            "\n",
            "              The Jupyter Trademark is registered with the U.S. Patent & Trademark Office. © 2024\n",
            "          \n",
            "\n",
            "\n",
            "\n",
            "\n",
            "\n",
            "\n",
            "\n"
          ]
        }
      ]
    },
    {
      "cell_type": "code",
      "source": [
        "import requests\n",
        "from bs4 import BeautifulSoup\n",
        "#Make a get request to the website\n",
        "response=requests.get(\"https://in.pinterest.com/\")\n",
        "#Parse the html parser to the website's content\n",
        "soup=BeautifulSoup(response.content,'html.parser')\n",
        "#Get the text from the website\n",
        "text=soup.get_text()\n",
        "#Print the title\n",
        "print(text)"
      ],
      "metadata": {
        "colab": {
          "base_uri": "https://localhost:8080/",
          "height": 0
        },
        "id": "12VUQ_D5p1F7",
        "outputId": "165feb12-29ef-4fcc-c3d8-09e4b8714c5f"
      },
      "execution_count": 111,
      "outputs": [
        {
          "output_type": "stream",
          "name": "stdout",
          "text": [
            "Pinterest - IndiaOh no! Pinterest doesn't work unless you turn on JavaScript.\n"
          ]
        }
      ]
    },
    {
      "cell_type": "code",
      "source": [
        "import requests\n",
        "from bs4 import BeautifulSoup\n",
        "#Make a get request to the website\n",
        "response=requests.get(\"https://oxylabs.io/\")\n",
        "#Parse the html parser to the website's content\n",
        "soup=BeautifulSoup(response.content,'html.parser')\n",
        "#Get the text from the website\n",
        "text=soup.get_text()\n",
        "#Print the title\n",
        "print(text)"
      ],
      "metadata": {
        "colab": {
          "base_uri": "https://localhost:8080/",
          "height": 0
        },
        "id": "gbNWyfrGqhMt",
        "outputId": "2f55d025-c745-40d0-9b00-8c82ae37dd65"
      },
      "execution_count": 113,
      "outputs": [
        {
          "output_type": "stream",
          "name": "stdout",
          "text": [
            "Oxylabs - High Quality Proxy Service to Gather Data at ScaleProxy locationsEuropeNorth AmericaSouth AmericaAsiaAfricaOceaniaSee all locationsNetwork statusCareershello@oxylabs.ioEnglish (EN)English中文Log inProxiesScraper APIsDatasetsNewPricingDevelopersSolutionsTry Oxylabs todayGet a custom solutionTry Oxylabs todayUnlock Data With Premium Scraping InfrastructurePowered by the world's largest ethical proxy network, AI and ML-driven Scraper APIs, and tailored no-code datasets.Try Oxylabs todayStart with GoogleA trusted partner for 3,500+ clients globallyWeb scraping solutions powering projects of any scaleFrom various types of proxies or Scraper APIs to advanced solutions unblocking any website, experience the power of industry-leading Oxylabs products.  Proxy SolutionsGather public data at scale with fewer IP blocks using Oxylabs' Proxy Solutions. Utilize one of the market's most reliable and largest proxy services, covering 195 countries globally, as well as collect public data block-free with AI-based Web Unblocker. Scraper APIsForget about proxy maintenance or complex scraping techniques. Our all-in-one web scraping solutions are equipped with various advanced features, including a Custom Parser, Scheduler, and Web Crawler, empowering you to gather the public data you need effortlessly.DatasetsUnlock readily available datasets tailored to your data toolset. We handle the entire public web data extraction process, freeing up your time to focus on other vital aspects of your business. Residential ProxiesHuman-like scraping without IP blocking. Learn moreStarts from8Pay as you goSelf-checkoutISP ProxiesBypass toughest targets using trusted ASN provider IPs and unlimited-duration sessions.Starts from2.10Join waitlistMobile ProxiesIP addresses from real mobile devices. Learn moreStarts from9Pay as you goSelf-checkoutShared Datacenter ProxiesFast proxies for cost-efficient scraping. Learn moreStarts from50Self-checkoutDedicated Datacenter ProxiesTop-performing proxies on the market. Learn moreStarts from8.25Self-checkoutWeb UnblockerAI-powered solution for block-free scraping. Learn moreStarts from75Start free trialE-Commerce Scraper APIPublic data from the largest marketplaces. Learn moreStarts from49Start free trialSERP Scraper APIScalable data delivery from search engines. Learn moreStarts from49Start free trialWeb Scraper APIEffortless data gathering from most websites. Learn moreStarts from49Start free trialCompany DataComprehensive data sets for business profiling. Learn moreStarts from1000Contact salesJob Postings DataDatasets for labour market research and insights. Learn moreStarts from1000Contact salesProduct Review DataFresh datasets for user sentiment analysis. Learn moreStarts from1000Contact salesE-Commerce Product DataDatasets for product catalog insights. Learn moreStarts from1000Contact salesCommunity and Code DataDatasets for developer community trends. Learn moreStarts from1000Contact salesGlobal proxy pool for easy public data accessUtilize one of the most reliable and largest proxy services in the market with 102M+ IPs, covering 195 countries worldwide.United States11,074,560 IPsGermany3,579,899 IPsUnited Kingdom3,622,838 IPs+ 192 More> See all locationsTOP-TIER COMPLIANCEMeeting the highest regulatory requirementsMain Oxylabs areas of business are certified for Information Security Management System according to the ISO/IEC 27001:2017 standard. By incorporating suitable risk assessments and policies, this standard guarantees the advancement and safeguarding of information.Oxylabs products fuel top industries with public web dataE-CommerceCybersecurityBrand protectionSERP monitoringTravel and hospitalityHarness public data for e-commerce successAccess valuable e-commerce data, such as pricing, product information, or reviews, on a large scale. Price monitoring Dynamic pricing Monitor product information Identify MAP policy violations Learn moreBoost cybersecurity operations with public dataGather critical data while staying unnoticed by threat actors to make proactive security decisions. Threat intelligence Email protection Prevent phishing attacks Learn moreSecure brands with top-tier public data collection solutionsRetrieve public data on a large scale to stop copyright infringement and counterfeiting. Copyright infringement monitoring Anti-counterfeit tracking Domain squatting detection Learn moreUnleash SEO potential with real-time public SERP dataExtract highly localized search engine data to monitor rankings and brand visibility. Monitor SERP results Backlink intelligence Ad intelligence Learn moreDiscover new opportunities with public travel dataLeverage real-time flight and hotel data to shape your travel business strategy with evidence-based insights.Real-time ticket pricing data Hotel pricing trends Learn moreTop languages supportedEasily integrate our solutions to your projectsWe ensure that integrating our products into your scraping infrastructure is as effortless as possible. With multiple language support and ready-to-use code examples, a quick and easy start to your web scraping project is a guarantee.See documentationCopyChoose product:Residential Proxiescurl -x pr.oxylabs.io:7777 -U \"customer-USER:PASS\" https://ip.oxylabs.io/locationcURLPythonNode.jsPHPGOJavaC#Expert insights on public data gatheringWe constantly share our expertise on various platforms, so check our developer-focused communities for constant web scraping news flow. Discord communityJoin our community to unite with web scraping enthusiastsScraping ExpertsAccess free video lessons led by top-notch expertsYouTube channelFind engaging videos on various data gathering topicsGitHubVisit our channel for step-by-step technical scraping tutorialsVisit our Developers HubFrom all necessary technical product information to valuable public data gathering tutorials and helpful resources, find everything you need in one place.Learn moreTrusted by top companies\"Building and maintaining your own scraping and parsing solution is expensive. That’s why we turned to Oxylabs. They offered one of the best price-to-value combinations in the market and helped us save our total web scraping costs.\"Wei ZhengChief Product Officer at ConductorRead full story More customer storiesExperience our award-winning web intelligence solutions100M+ ethically sourced Residential ProxiesOxylabs Residential Proxy pool is ethically sourced from carefully selected partners that uphold business ethics and strict compliance. A majority of Oxylabs’ proxy network is composed of Tier A+ model proxies. Learn morePioneering industry stewardshipPartnershipsCybersecurityEthicsSustainabilityInnovationEmpowering change with Project 4βThrough our pro bono initiative \"Project 4β,\" we supply Oxylabs know-how, robust infrastructure, and resources pro bono to academic institutions, researchers, NGOs, NPOs, and other organizations, helping maximize their research impact and enhancing their understanding of web intelligence collection.Read our success storiesUnited in efforts to make the web saferOxylabs is a proud member of cybersecurity organizations that improve the livelihood of all internet participants. As such, we’ve become members of the Global Cyber Alliance (GCA), Information Systems Security International (ISSA), and the European Cyber Security Organisation (ECSO). These partnerships allow us to exchange knowledge and expertise, aimed at improving internet security.Founding industry best practicesOxylabs is a founding member of the Ethical Web Data Collection Initiative (EWDCI), an industry-led consortium of web data collectors focused on strengthening public trust, promoting ethical guidelines, and helping businesses make informed data aggregation choices.Making web intelligence sustainableOur company is one of the first in the industry to publish extensive Impact Reports in which we set sustainability goals, calculate emissions, and build strategies to offset our actions.Bringing novelty to the industryOxylabs has created a dedicated artificial intelligence and machine learning board where world-leading experts in their respective fields help us develop new solutions and enhance existing ones with emerging technologies, allowing us to bring unparalleled value to our customers.Certified data centers and upstream providersAll of our products are insuredAll of our products are covered by Technology Errors & Omissions (Technology E&O) and Cyber Insurance.Get the latest news from data gathering worldI'm interestedScale up your business with Oxylabs®Buy nowTalk to an expertGET IN TOUCHGeneral:hello@oxylabs.ioSupport:support@oxylabs.ioCareer:career@oxylabs.ioCertified data centers and upstream providersEnglish中文Connect with usCompanyAbout usOur valuesAffiliate programService partnersPress areaResidential Proxies sourcingCareersOur productsOxyConProject 4betaSustainabilityTrust & SafetyProxiesDatacenter ProxiesShared Datacenter ProxiesDedicated Datacenter ProxiesResidential ProxiesStatic Residential ProxiesSOCKS5 ProxiesMobile ProxiesRotating ISP ProxiesProxy ServersAdvanced proxy solutionsWeb UnblockerTop locationsUnited StatesUnited KingdomCanadaGermanyIndiaAll locationsResourcesDevelopers HubFAQDocumentationBlogScraper APIsSERP Scraper APIE-Commerce Scraper APIWeb Scraper APIInnovation hubAdaptive ParserIntellectual PropertyPrivacy PolicyKYC PolicyVulnerability Disclosure PolicySpeak UpCode of Conductoxylabs.io© 2024 All Rights Reserved\n"
          ]
        }
      ]
    },
    {
      "cell_type": "markdown",
      "source": [
        "To get all URLs"
      ],
      "metadata": {
        "id": "v8NSjAS7rL5I"
      }
    },
    {
      "cell_type": "code",
      "source": [
        "import requests\n",
        "from bs4 import BeautifulSoup\n",
        "\n",
        "response=requests.get(\"https://example.com/\")\n",
        "\n",
        "soup=BeautifulSoup(response.content,'html.parser')\n",
        "#Find all <a> tags in the HTML\n",
        "links=soup.find_all('a')\n",
        "#Extract the href attribute of each <a> tag to get the URL\n",
        "urls=[]\n",
        "for link in links:\n",
        "  url=link.get('href')\n",
        "  if url:\n",
        "    urls.append(url)\n",
        "#Print the URLs\n",
        "for url in urls:\n",
        "  print(url)\n",
        "\n"
      ],
      "metadata": {
        "colab": {
          "base_uri": "https://localhost:8080/",
          "height": 0
        },
        "id": "FvswhwwWq7cG",
        "outputId": "b53275c4-7592-4718-c8d8-0be66923984e"
      },
      "execution_count": 114,
      "outputs": [
        {
          "output_type": "stream",
          "name": "stdout",
          "text": [
            "https://www.iana.org/domains/example\n"
          ]
        }
      ]
    },
    {
      "cell_type": "code",
      "source": [
        "import requests\n",
        "from bs4 import BeautifulSoup\n",
        "\n",
        "response=requests.get(\"https://in.pinterest.com/\")\n",
        "\n",
        "soup=BeautifulSoup(response.content,'html.parser')\n",
        "#Find all <a> tags in the HTML\n",
        "links=soup.find_all('a')\n",
        "#Extract the href attribute of each <a> tag to get the URL\n",
        "urls=[]\n",
        "for link in links:\n",
        "  url=link.get('href')\n",
        "  if url:\n",
        "    urls.append(url)\n",
        "#Print the URLs\n",
        "for url in urls:\n",
        "  print(url)"
      ],
      "metadata": {
        "colab": {
          "base_uri": "https://localhost:8080/",
          "height": 0
        },
        "id": "LoVSq3hnuQQo",
        "outputId": "4e4147d7-55db-4859-924e-0aa86c93aaee"
      },
      "execution_count": 115,
      "outputs": [
        {
          "output_type": "stream",
          "name": "stdout",
          "text": [
            "http://enable-javascript.com/\n"
          ]
        }
      ]
    },
    {
      "cell_type": "code",
      "source": [
        "import requests\n",
        "from bs4 import BeautifulSoup\n",
        "\n",
        "response=requests.get(\"https://github.com/\")\n",
        "\n",
        "soup=BeautifulSoup(response.content,'html.parser')\n",
        "#Find all <a> tags in the HTML\n",
        "links=soup.find_all('a')\n",
        "#Extract the href attribute of each <a> tag to get the URL\n",
        "urls=[]\n",
        "for link in links:\n",
        "  url=link.get('href')\n",
        "  if url:\n",
        "    urls.append(url)\n",
        "#Print the URLs\n",
        "for url in urls:\n",
        "  print(url)"
      ],
      "metadata": {
        "colab": {
          "base_uri": "https://localhost:8080/",
          "height": 0
        },
        "id": "rM92pRuZudGM",
        "outputId": "4267a49d-adfe-47c0-e85c-ee3945b85148"
      },
      "execution_count": 116,
      "outputs": [
        {
          "output_type": "stream",
          "name": "stdout",
          "text": [
            "#start-of-content\n",
            "https://githubuniverse.com/?utm_source=github&utm_medium=banner&utm_campaign=24bannerheader2li\n",
            "https://github.com/\n",
            "/login\n",
            "https://github.com/features/actions\n",
            "https://github.com/features/packages\n",
            "https://github.com/features/security\n",
            "https://github.com/features/codespaces\n",
            "https://github.com/features/copilot\n",
            "https://github.com/features/code-review\n",
            "https://github.com/features/issues\n",
            "https://github.com/features/discussions\n",
            "https://github.com/features\n",
            "https://docs.github.com\n",
            "https://skills.github.com\n",
            "https://github.blog\n",
            "https://github.com/enterprise\n",
            "https://github.com/team\n",
            "https://github.com/enterprise/startups\n",
            "https://education.github.com\n",
            "https://github.com/solutions/ci-cd\n",
            "https://github.com/solutions/devops\n",
            "https://resources.github.com/devops/fundamentals/devsecops\n",
            "https://resources.github.com/learn/pathways\n",
            "https://resources.github.com\n",
            "https://github.com/customer-stories\n",
            "https://partner.github.com\n",
            "/sponsors\n",
            "https://github.com/readme\n",
            "https://github.com/topics\n",
            "https://github.com/trending\n",
            "https://github.com/collections\n",
            "/enterprise\n",
            "https://github.com/enterprise/advanced-security\n",
            "/features/copilot#enterprise\n",
            "/premium-support\n",
            "https://github.com/pricing\n",
            "https://docs.github.com/search-github/github-code-search/understanding-github-code-search-syntax\n",
            "https://docs.github.com/search-github/github-code-search/understanding-github-code-search-syntax\n",
            "/login\n",
            "/signup?ref_cta=Sign+up&ref_loc=header+logged+out&ref_page=%2F&source=header-home\n",
            "/organizations/enterprise_plan?ref_cta=Start+a+free+enterprise+trial&ref_loc=Home+campaign+hero&ref_page=%2F\n",
            "#productivity\n",
            "#security\n",
            "#collaboration\n",
            "/organizations/enterprise_plan?ref_cta=Start+a+free+enterprise+trial&ref_loc=homepage+sticky+nav&ref_page=%2F\n",
            "/join?ref_cta=Sign+up+for+GitHub&ref_loc=homepage+sticky+nav&ref_page=%2F&source=homepage-sticky-nav\n",
            "/features/copilot\n",
            "https://resources.github.com/forrester/\n",
            "/features/actions\n",
            "/features/codespaces\n",
            "/mobile\n",
            "/enterprise/advanced-security\n",
            "https://resources.github.com/security/sast/\n",
            "/features/security/software-supply-chain\n",
            "/features/security/code\n",
            "/features/issues\n",
            "/features/discussions\n",
            "/features/code-review\n",
            "/sponsors\n",
            "/homebrew\n",
            "/commandpost\n",
            "/yyx990803\n",
            "/dayhaysoos\n",
            "/chaynhq\n",
            "/curl\n",
            "/eslint\n",
            "/prophen\n",
            "/imolorhe\n",
            "/organizations/enterprise_plan?ref_cta=Start+a+free+enterprise+trial&ref_loc=Home+campaign+footer&ref_page=%2F\n",
            "https://github.blog/2023-01-25-100-million-developers-and-counting/\n",
            "/\n",
            "https://resources.github.com/newsletter/\n",
            "/features\n",
            "/enterprise\n",
            "/features/copilot\n",
            "/security\n",
            "/pricing\n",
            "/team\n",
            "https://resources.github.com\n",
            "https://github.com/github/roadmap\n",
            "https://resources.github.com/devops/tools/compare\n",
            "https://docs.github.com/get-started/exploring-integrations/about-building-integrations\n",
            "https://partner.github.com\n",
            "https://github.com/edu\n",
            "https://www.electronjs.org\n",
            "https://desktop.github.com\n",
            "https://docs.github.com\n",
            "https://github.community\n",
            "https://services.github.com\n",
            "/premium-support\n",
            "https://skills.github.com\n",
            "https://www.githubstatus.com\n",
            "https://support.github.com?tags=dotcom-footer\n",
            "https://github.com/about\n",
            "/customer-stories?type=enterprise\n",
            "https://github.blog\n",
            "/readme\n",
            "https://github.careers\n",
            "/about/press\n",
            "/about/diversity\n",
            "https://socialimpact.github.com\n",
            "https://shop.github.com\n",
            "https://docs.github.com/site-policy/github-terms/github-terms-of-service\n",
            "https://docs.github.com/site-policy/privacy-policies/github-privacy-statement\n",
            "https://github.com/github/site-policy/pull/582\n",
            "/sitemap\n",
            "/git-guides\n",
            "https://x.com/github\n",
            "https://www.facebook.com/GitHub\n",
            "https://www.linkedin.com/company/github\n",
            "https://www.youtube.com/github\n",
            "https://www.twitch.tv/github\n",
            "https://www.tiktok.com/@github\n",
            "https://github.com/github\n"
          ]
        }
      ]
    },
    {
      "cell_type": "markdown",
      "source": [
        "To scrap highlighted text"
      ],
      "metadata": {
        "id": "egoYyhvTvLTI"
      }
    },
    {
      "cell_type": "code",
      "source": [
        "import requests\n",
        "from bs4 import BeautifulSoup\n",
        "\n",
        "response=requests.get(\"https://example.com/\")\n",
        "\n",
        "soup=BeautifulSoup(response.content,'html.parser')\n",
        "\n",
        "#Find all instances of the highlighted text\n",
        "highlighted=soup.find_all('span',{'class':'highlighted'})\n",
        "\n",
        "#Extract the text content of each instance\n",
        "text=[]\n",
        "for element in highlighted:\n",
        "  text.append(element.text)\n",
        "\n",
        "#Print the highlighted text\n",
        "print(text)"
      ],
      "metadata": {
        "colab": {
          "base_uri": "https://localhost:8080/",
          "height": 0
        },
        "id": "26X0_dxavUru",
        "outputId": "4ec4c0d5-7898-49a6-ecfd-b52e1e8da366"
      },
      "execution_count": 117,
      "outputs": [
        {
          "output_type": "stream",
          "name": "stdout",
          "text": [
            "[]\n"
          ]
        }
      ]
    },
    {
      "cell_type": "markdown",
      "source": [
        "to scrap only numbers"
      ],
      "metadata": {
        "id": "ck-AV2BPxCmD"
      }
    },
    {
      "cell_type": "code",
      "source": [
        "import requests\n",
        "from bs4 import BeautifulSoup\n",
        "\n",
        "response=requests.get(\"https://example.com/\")\n",
        "\n",
        "soup=BeautifulSoup(response.content,'html.parser')\n",
        "\n",
        "#Use regular expressions\n",
        "numbers=re.findall(r'\\d+',response.text)\n",
        "\n",
        "#Print the numbers\n",
        "print(numbers)"
      ],
      "metadata": {
        "colab": {
          "base_uri": "https://localhost:8080/",
          "height": 0
        },
        "id": "tD6_1b1TxGic",
        "outputId": "8fcf5080-7882-4f6a-a7ac-72cd8019dee4"
      },
      "execution_count": 118,
      "outputs": [
        {
          "output_type": "stream",
          "name": "stdout",
          "text": [
            "['8', '8', '1', '0', '0', '2', '0', '0', '600', '5', '2', '0', '5', '2', '3', '7', '2', '0', '0', '0', '0', '02', '38488', '700', '0', '1', '1']\n"
          ]
        }
      ]
    },
    {
      "cell_type": "markdown",
      "source": [
        "To scrap only dates in the website"
      ],
      "metadata": {
        "id": "zvn2-w16yZF9"
      }
    },
    {
      "cell_type": "code",
      "source": [
        "import requests\n",
        "from bs4 import BeautifulSoup\n",
        "\n",
        "response=requests.get(\"https://example.com/\")\n",
        "\n",
        "soup=BeautifulSoup(response.content,'html.parser')\n",
        "\n",
        "#Find all date instances\n",
        "date_elements=soup.find_all('time')\n",
        "\n",
        "#Extract the date text content of each instance\n",
        "dates=[]\n",
        "for element in date_elements:\n",
        "\n",
        "#Print the numbers\n",
        "   print(numbers)\n"
      ],
      "metadata": {
        "id": "Ppvql1ezyc0c"
      },
      "execution_count": 119,
      "outputs": []
    },
    {
      "cell_type": "markdown",
      "source": [
        "To work on ppts"
      ],
      "metadata": {
        "id": "20RoCp38dOw0"
      }
    },
    {
      "cell_type": "code",
      "source": [
        "pip install python-pptx"
      ],
      "metadata": {
        "colab": {
          "base_uri": "https://localhost:8080/",
          "height": 0
        },
        "id": "PGJ1Ytn2dNIN",
        "outputId": "5941ab6b-4a85-47ca-d19d-f6424d575be3"
      },
      "execution_count": 120,
      "outputs": [
        {
          "output_type": "stream",
          "name": "stdout",
          "text": [
            "Collecting python-pptx\n",
            "  Downloading python_pptx-0.6.23-py3-none-any.whl (471 kB)\n",
            "\u001b[2K     \u001b[90m━━━━━━━━━━━━━━━━━━━━━━━━━━━━━━━━━━━━━━━━\u001b[0m \u001b[32m471.6/471.6 kB\u001b[0m \u001b[31m2.7 MB/s\u001b[0m eta \u001b[36m0:00:00\u001b[0m\n",
            "\u001b[?25hRequirement already satisfied: lxml>=3.1.0 in /usr/local/lib/python3.10/dist-packages (from python-pptx) (4.9.4)\n",
            "Requirement already satisfied: Pillow>=3.3.2 in /usr/local/lib/python3.10/dist-packages (from python-pptx) (9.4.0)\n",
            "Collecting XlsxWriter>=0.5.7 (from python-pptx)\n",
            "  Downloading XlsxWriter-3.2.0-py3-none-any.whl (159 kB)\n",
            "\u001b[2K     \u001b[90m━━━━━━━━━━━━━━━━━━━━━━━━━━━━━━━━━━━━━━━━\u001b[0m \u001b[32m159.9/159.9 kB\u001b[0m \u001b[31m17.8 MB/s\u001b[0m eta \u001b[36m0:00:00\u001b[0m\n",
            "\u001b[?25hInstalling collected packages: XlsxWriter, python-pptx\n",
            "Successfully installed XlsxWriter-3.2.0 python-pptx-0.6.23\n"
          ]
        }
      ]
    },
    {
      "cell_type": "code",
      "source": [
        "pip install pptx"
      ],
      "metadata": {
        "id": "nBEf9nEUfN8E"
      },
      "execution_count": null,
      "outputs": []
    },
    {
      "cell_type": "code",
      "source": [
        "import pptx\n",
        "from pptx import Presentation\n",
        "\n",
        "ppt=pptx.Presentation(r\"/content/VAC_Bindu.pptx\")\n",
        "\n",
        "text_runs=[]\n",
        "\n",
        "for slide in ppt.slides:\n",
        "  for shape in slide.shapes:\n",
        "    if not shape.has_text_frame:\n",
        "      continue\n",
        "    for paragraph in shape.text_frame.paragraphs:\n",
        "      for run in paragraph.runs:\n",
        "           text_runs.append(run.text)\n",
        "text='\\n'.join(text_runs)\n",
        "print(text)"
      ],
      "metadata": {
        "id": "2wQtETpKdmFO"
      },
      "execution_count": null,
      "outputs": []
    },
    {
      "cell_type": "markdown",
      "source": [
        "To scrape from word documents."
      ],
      "metadata": {
        "id": "LcDHMpPtiCq6"
      }
    },
    {
      "cell_type": "code",
      "source": [
        "pip install python-docx"
      ],
      "metadata": {
        "id": "QIuTvdCziJU7"
      },
      "execution_count": null,
      "outputs": []
    },
    {
      "cell_type": "code",
      "source": [
        "pip install docx"
      ],
      "metadata": {
        "id": "i0a9U1DYiyuC"
      },
      "execution_count": null,
      "outputs": []
    },
    {
      "cell_type": "code",
      "source": [
        "import docx\n",
        "#lOAD THE WORD DOCUMENT\n",
        "doc=docx.Document(\"/content/VAC.docx\")\n",
        "#extract all the text from the document\n",
        "text=\"\"\n",
        "for para in doc.paragraphs:\n",
        "  text+=para.text\n",
        "\n",
        "print(text)"
      ],
      "metadata": {
        "id": "zfNYgJMBjNb7"
      },
      "execution_count": null,
      "outputs": []
    },
    {
      "cell_type": "markdown",
      "source": [
        "to scrap tables from website"
      ],
      "metadata": {
        "id": "xz5Ac9d-lIqT"
      }
    },
    {
      "cell_type": "code",
      "source": [
        "import requests\n",
        "import pandas as pd\n",
        "from bs4 import BeautifulSoup\n",
        "\n",
        "url=\"https://en.wikipedia.org/wiki/List_of_current_United_States_senators\"\n",
        "\n",
        "response=requests.get(url)\n",
        "\n",
        "soup=BeautifulSoup(response.text,'html.parser')\n",
        "table=soup.find('table')\n",
        "df=pd.read_html(str(table))[0]\n",
        "print(df)"
      ],
      "metadata": {
        "colab": {
          "base_uri": "https://localhost:8080/",
          "height": 0
        },
        "id": "K1vaYDsilw-G",
        "outputId": "01e21788-5883-4a1d-e46d-e49deacb6a5f"
      },
      "execution_count": 123,
      "outputs": [
        {
          "output_type": "stream",
          "name": "stdout",
          "text": [
            "  Affiliation     Affiliation.1  Members\n",
            "0         NaN  Republican Party       49\n",
            "1         NaN  Democratic Party       47\n",
            "2         NaN       Independent        4\n",
            "3       Total             Total      100\n"
          ]
        }
      ]
    },
    {
      "cell_type": "markdown",
      "source": [
        "To scrap movie ratings"
      ],
      "metadata": {
        "id": "GPllb-tapLkl"
      }
    },
    {
      "cell_type": "code",
      "source": [
        "import requests\n",
        "from bs4 import BeautifulSoup\n",
        "\n",
        "url=\"https://www.imdb.com/chart/top/\"\n",
        "#send an http GET request to the URL\n",
        "response=requests.get(url)\n",
        "\n",
        "#parse the html content of the page\n",
        "soup=BeautifulSoup(response.text,'html.parser')\n",
        "\n",
        "#find the rating elements in the HTML\n",
        "rating_elements=soup.find_all('td',{'class':'ratingColumn imdbRating'})\n",
        "\n",
        "#extract the rating data\n",
        "ratings=[float(element.text.strip()) for element in rating_elements]\n",
        "\n",
        "print(ratings)"
      ],
      "metadata": {
        "colab": {
          "base_uri": "https://localhost:8080/",
          "height": 0
        },
        "id": "pemzWk1ApgpE",
        "outputId": "21c199ab-a7d1-43df-b6e4-4074cadf24f2"
      },
      "execution_count": 124,
      "outputs": [
        {
          "output_type": "stream",
          "name": "stdout",
          "text": [
            "[]\n"
          ]
        }
      ]
    },
    {
      "cell_type": "markdown",
      "source": [
        "To scrap from twitter"
      ],
      "metadata": {
        "id": "Orrq3dTNwMnP"
      }
    },
    {
      "cell_type": "code",
      "source": [
        "pip install git+https://github.com/tweepy/tweepy.git"
      ],
      "metadata": {
        "colab": {
          "base_uri": "https://localhost:8080/",
          "height": 0
        },
        "id": "qbrkzly8xRsn",
        "outputId": "b5a35f20-4cc2-4be4-8238-12c8de58aac9"
      },
      "execution_count": 125,
      "outputs": [
        {
          "output_type": "stream",
          "name": "stdout",
          "text": [
            "Collecting git+https://github.com/tweepy/tweepy.git\n",
            "  Cloning https://github.com/tweepy/tweepy.git to /tmp/pip-req-build-hfybleft\n",
            "  Running command git clone --filter=blob:none --quiet https://github.com/tweepy/tweepy.git /tmp/pip-req-build-hfybleft\n",
            "  Resolved https://github.com/tweepy/tweepy.git to commit 91a41c6e1c955d278c370d51d5cf43b05f7cd979\n",
            "  Preparing metadata (setup.py) ... \u001b[?25l\u001b[?25hdone\n",
            "Requirement already satisfied: oauthlib<4,>=3.2.0 in /usr/local/lib/python3.10/dist-packages (from tweepy==4.14.0) (3.2.2)\n",
            "Requirement already satisfied: requests<3,>=2.27.0 in /usr/local/lib/python3.10/dist-packages (from tweepy==4.14.0) (2.31.0)\n",
            "Requirement already satisfied: requests-oauthlib<2,>=1.2.0 in /usr/local/lib/python3.10/dist-packages (from tweepy==4.14.0) (1.3.1)\n",
            "Requirement already satisfied: charset-normalizer<4,>=2 in /usr/local/lib/python3.10/dist-packages (from requests<3,>=2.27.0->tweepy==4.14.0) (3.3.2)\n",
            "Requirement already satisfied: idna<4,>=2.5 in /usr/local/lib/python3.10/dist-packages (from requests<3,>=2.27.0->tweepy==4.14.0) (3.7)\n",
            "Requirement already satisfied: urllib3<3,>=1.21.1 in /usr/local/lib/python3.10/dist-packages (from requests<3,>=2.27.0->tweepy==4.14.0) (2.0.7)\n",
            "Requirement already satisfied: certifi>=2017.4.17 in /usr/local/lib/python3.10/dist-packages (from requests<3,>=2.27.0->tweepy==4.14.0) (2024.6.2)\n"
          ]
        }
      ]
    },
    {
      "cell_type": "code",
      "source": [
        "import tweepy\n",
        "import time\n",
        "\n",
        "consumer_key=\"XXXX\" #your API/Consumer key\n",
        "consumer_secret=\"XXXX\" #your API/consumer secret key\n",
        "access_token=\"XXXX\" #your Access token key\n",
        "access_token_secret=\"XXXX\" #your access token secret key\n",
        "\n",
        "#pass in our twitter API authentication key\n",
        "auth=tweepy.OAuth1UserHandler(\n",
        "    consumer_key, consumer_secret,\n",
        "    access_token,access_token_secret\n",
        ")\n",
        "\n",
        "#instantiate the tweepy api\n",
        "api=tweepy.API(auth,wait_on_rate_limit=True)\n",
        "\n",
        "username=\"narendramodi\"\n",
        "no_of_tweets=100\n",
        "\n",
        "try:\n",
        "  tweets=api.user_timeline(screen_name=username,count=no_of_tweets)\n",
        "  attributes_container=[[tweet.created_at,tweet.favourite_count,tweet.source,tweet.text]for tweet in tweets]\n",
        "\n",
        "  columns = [\"Date Created\", \"Number of Likes\", \"Source of Tweet\", \"Tweet\"]\n",
        "\n",
        "  #Creation of Dataframe\n",
        "  tweets_df = pd.DataFrame(attributes_container, columns=columns)\n",
        "\n",
        "except BaseException as e:\n",
        "    print('Status Failed On,',str(e))\n",
        "    time.sleep(3)\n",
        "\n",
        "\n"
      ],
      "metadata": {
        "colab": {
          "base_uri": "https://localhost:8080/",
          "height": 0
        },
        "id": "891up6D6wRK-",
        "outputId": "712b105f-2fa2-43b8-ad88-d22f9c20aa91"
      },
      "execution_count": 126,
      "outputs": [
        {
          "output_type": "stream",
          "name": "stdout",
          "text": [
            "Status Failed On, 401 Unauthorized\n",
            "89 - Invalid or expired token.\n"
          ]
        }
      ]
    },
    {
      "cell_type": "markdown",
      "source": [
        "To scrap from excel file"
      ],
      "metadata": {
        "id": "1K_kYhE-9DiL"
      }
    },
    {
      "cell_type": "code",
      "source": [
        "import openpyxl\n",
        "workbook=openpyxl.load_workbook(r\"/content/VAC.xlsx\")\n",
        "sheet=workbook[\"Sheet2\"]\n",
        "for row in sheet.iter_rows(values_only=True):\n",
        "  cell1,cell2,cell3=row\n",
        "  print(f\"Cell 1: {cell1}\")\n",
        "  print(f\"Cell 2: {cell2}\")\n",
        "  print(f\"Cell 3: {cell3}\")\n",
        "  print(\"=\"*50)"
      ],
      "metadata": {
        "id": "XMyRYILc9Lx6"
      },
      "execution_count": null,
      "outputs": []
    },
    {
      "cell_type": "markdown",
      "source": [
        "To scrap images from website\n"
      ],
      "metadata": {
        "id": "UmlHgxMqEBaj"
      }
    },
    {
      "cell_type": "code",
      "source": [
        "import requests\n",
        "from bs4 import BeautifulSoup\n",
        "import urllib.request\n",
        "import os\n",
        "\n",
        "url=\"https://www.amazon.in/?tag=msndeskabkin-21&ref=pd_sl_5szpgfto9j_e&adgrpid=1320515071595367&hvadid=82532451009254&hvnetw=o&hvqmt=e&hvbmt=be&hvdev=c&hvlocint=&hvlocphy=155835&hvtargid=kwd-82533067351416:loc-90&hydadcr=14452_2154372\"\n",
        "response=requests.get(url)\n",
        "\n",
        "soup=BeautifulSoup(response.content,'html.parser')\n",
        "\n",
        "img_dir=\"amazon_images\"\n",
        "if not os.path.exists(img_dir):\n",
        "  os.makedirs(img_dir)\n",
        "\n",
        "images=soup.find_all('img')\n",
        "\n",
        "for img in images:\n",
        "  img_url=img['src']\n",
        "  filename=os.path.join(img_dir,img_url.split(\"/\")[-1])\n",
        "  print(f\"Downloaded images: {filename}\")\n"
      ],
      "metadata": {
        "colab": {
          "base_uri": "https://localhost:8080/",
          "height": 0
        },
        "id": "8n1kX0EbFP51",
        "outputId": "65dc4367-aa2e-47a2-f3fe-b033b7add30a"
      },
      "execution_count": 128,
      "outputs": [
        {
          "output_type": "stream",
          "name": "stdout",
          "text": [
            "Downloaded images: amazon_images/Captcha_wqwxtbafji.jpg\n",
            "Downloaded images: amazon_images/requestId=DY3JWKD63DC4TDZY1V96&js=0\n"
          ]
        }
      ]
    },
    {
      "cell_type": "markdown",
      "source": [
        "To scrap contacters' details"
      ],
      "metadata": {
        "id": "gpfzPq52IfiH"
      }
    },
    {
      "cell_type": "code",
      "source": [
        "import requests\n",
        "from bs4 import BeautifulSoup\n",
        "response=requests.get(\"https://appbrewery.com/\")\n",
        "soup=BeautifulSoup(response.content,'html.parser')\n",
        "contact_elements=soup.find_all('div',{'class':'contact-info'})\n",
        "contacts=[]\n",
        "for element in contact_elements:\n",
        "  contacts.append(element.text)\n",
        "print(contacts)"
      ],
      "metadata": {
        "colab": {
          "base_uri": "https://localhost:8080/",
          "height": 0
        },
        "id": "1Hy5skDWIkHc",
        "outputId": "21130a11-113e-49d1-893d-f429d1f0803a"
      },
      "execution_count": 129,
      "outputs": [
        {
          "output_type": "stream",
          "name": "stdout",
          "text": [
            "[]\n"
          ]
        }
      ]
    },
    {
      "cell_type": "markdown",
      "source": [
        "To scrap videos from website"
      ],
      "metadata": {
        "id": "UDEHtNUELi-n"
      }
    },
    {
      "cell_type": "code",
      "source": [
        "import requests\n",
        "from bs4 import BeautifulSoup\n",
        "import os\n",
        "response=requests.get(\"https://www.dailymotion.com/\")\n",
        "soup=BeautifulSoup(response.content,'html.parser')\n",
        "\n",
        "video_tags=soup.find_all('video')\n",
        "video_urls=[tag['src']for tag in video_tags]\n",
        "\n",
        "for i, video_url in enumerate(video_urls):\n",
        "  response=requests.get(video_url)\n",
        "  os.makedirs('videos',exist_ok=True)\n",
        "  with open(f'videos/video_{i}.mp4','wb') as f:\n",
        "    f.write(response.content)\n",
        "  os.chdir('videos')\n",
        "\n",
        "directory_contents=os.listdir()\n",
        "video_files=[file for file in directory_contents if file.endswith('.mp4') or file.endswith('.avi') or file.endswith('.mov')]\n",
        "print(video_files)\n",
        "os.chdir('..')\n",
        "print(directory_contents)\n",
        "os.chdir('..')\n",
        "\n"
      ],
      "metadata": {
        "colab": {
          "base_uri": "https://localhost:8080/",
          "height": 0
        },
        "id": "RWRPT5UGLnV-",
        "outputId": "72724b9b-b086-411a-c257-ae5db455276f"
      },
      "execution_count": 130,
      "outputs": [
        {
          "output_type": "stream",
          "name": "stdout",
          "text": [
            "[]\n",
            "['.config', 'amazon_images', 'sample_data']\n"
          ]
        }
      ]
    },
    {
      "cell_type": "markdown",
      "source": [
        "To scrap prices from the website"
      ],
      "metadata": {
        "id": "0aWP__53Q49g"
      }
    },
    {
      "cell_type": "code",
      "source": [
        "import requests\n",
        "from bs4 import BeautifulSoup\n",
        "response=requests.get(\"https://www.flipkart.com/cameras/\")\n",
        "html_content=response.content\n",
        "\n",
        "soup=BeautifulSoup(html_content,'html.parser')\n",
        "price_elements=soup.find_all(\"span\",{\"class\":\"price\"})\n",
        "\n",
        "prices=[]\n",
        "for price_element in price_elements:\n",
        "  price=price.element.text.strip()\n",
        "  cleaned_price=price.replace(\"$\",\"\")\n",
        "  float_price=float(cleaned_price)\n",
        "\n",
        "print(prices)\n",
        "\n",
        "\n"
      ],
      "metadata": {
        "colab": {
          "base_uri": "https://localhost:8080/",
          "height": 0
        },
        "id": "XDkyirADRA_I",
        "outputId": "cb215563-cc7f-43d2-c5be-0c45c3d07083"
      },
      "execution_count": 131,
      "outputs": [
        {
          "output_type": "stream",
          "name": "stdout",
          "text": [
            "[]\n"
          ]
        }
      ]
    }
  ]
}